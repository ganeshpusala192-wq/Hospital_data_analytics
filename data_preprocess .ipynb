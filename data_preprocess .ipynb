{
 "cells": [
  {
   "cell_type": "code",
   "execution_count": 1,
   "id": "f7746b52",
   "metadata": {},
   "outputs": [
    {
     "name": "stdout",
     "output_type": "stream",
     "text": [
      "Requirement already satisfied: numpy in c:\\users\\hp\\documents\\internship project 2\\hospital_analytics\\hospital\\lib\\site-packages (2.3.3)\n",
      "Note: you may need to restart the kernel to use updated packages.\n"
     ]
    },
    {
     "name": "stderr",
     "output_type": "stream",
     "text": [
      "\n",
      "[notice] A new release of pip is available: 24.2 -> 25.2\n",
      "[notice] To update, run: python.exe -m pip install --upgrade pip\n"
     ]
    },
    {
     "name": "stdout",
     "output_type": "stream",
     "text": [
      "Requirement already satisfied: pandas in c:\\users\\hp\\documents\\internship project 2\\hospital_analytics\\hospital\\lib\\site-packages (2.3.2)\n",
      "Requirement already satisfied: numpy>=1.26.0 in c:\\users\\hp\\documents\\internship project 2\\hospital_analytics\\hospital\\lib\\site-packages (from pandas) (2.3.3)\n",
      "Requirement already satisfied: python-dateutil>=2.8.2 in c:\\users\\hp\\documents\\internship project 2\\hospital_analytics\\hospital\\lib\\site-packages (from pandas) (2.9.0.post0)\n",
      "Requirement already satisfied: pytz>=2020.1 in c:\\users\\hp\\documents\\internship project 2\\hospital_analytics\\hospital\\lib\\site-packages (from pandas) (2025.2)\n",
      "Requirement already satisfied: tzdata>=2022.7 in c:\\users\\hp\\documents\\internship project 2\\hospital_analytics\\hospital\\lib\\site-packages (from pandas) (2025.2)\n",
      "Requirement already satisfied: six>=1.5 in c:\\users\\hp\\documents\\internship project 2\\hospital_analytics\\hospital\\lib\\site-packages (from python-dateutil>=2.8.2->pandas) (1.17.0)\n",
      "Note: you may need to restart the kernel to use updated packages.\n"
     ]
    },
    {
     "name": "stderr",
     "output_type": "stream",
     "text": [
      "\n",
      "[notice] A new release of pip is available: 24.2 -> 25.2\n",
      "[notice] To update, run: python.exe -m pip install --upgrade pip\n"
     ]
    },
    {
     "name": "stdout",
     "output_type": "stream",
     "text": [
      "Note: you may need to restart the kernel to use updated packages.\n"
     ]
    },
    {
     "name": "stderr",
     "output_type": "stream",
     "text": [
      "ERROR: Could not find a version that satisfies the requirement matlplotlib.pyplot (from versions: none)\n",
      "\n",
      "[notice] A new release of pip is available: 24.2 -> 25.2\n",
      "[notice] To update, run: python.exe -m pip install --upgrade pip\n",
      "ERROR: No matching distribution found for matlplotlib.pyplot\n"
     ]
    },
    {
     "name": "stdout",
     "output_type": "stream",
     "text": [
      "Requirement already satisfied: seaborn in c:\\users\\hp\\documents\\internship project 2\\hospital_analytics\\hospital\\lib\\site-packages (0.13.2)\n",
      "Requirement already satisfied: numpy!=1.24.0,>=1.20 in c:\\users\\hp\\documents\\internship project 2\\hospital_analytics\\hospital\\lib\\site-packages (from seaborn) (2.3.3)\n",
      "Requirement already satisfied: pandas>=1.2 in c:\\users\\hp\\documents\\internship project 2\\hospital_analytics\\hospital\\lib\\site-packages (from seaborn) (2.3.2)\n",
      "Requirement already satisfied: matplotlib!=3.6.1,>=3.4 in c:\\users\\hp\\documents\\internship project 2\\hospital_analytics\\hospital\\lib\\site-packages (from seaborn) (3.10.6)\n",
      "Requirement already satisfied: contourpy>=1.0.1 in c:\\users\\hp\\documents\\internship project 2\\hospital_analytics\\hospital\\lib\\site-packages (from matplotlib!=3.6.1,>=3.4->seaborn) (1.3.3)\n",
      "Requirement already satisfied: cycler>=0.10 in c:\\users\\hp\\documents\\internship project 2\\hospital_analytics\\hospital\\lib\\site-packages (from matplotlib!=3.6.1,>=3.4->seaborn) (0.12.1)\n",
      "Requirement already satisfied: fonttools>=4.22.0 in c:\\users\\hp\\documents\\internship project 2\\hospital_analytics\\hospital\\lib\\site-packages (from matplotlib!=3.6.1,>=3.4->seaborn) (4.59.2)\n",
      "Requirement already satisfied: kiwisolver>=1.3.1 in c:\\users\\hp\\documents\\internship project 2\\hospital_analytics\\hospital\\lib\\site-packages (from matplotlib!=3.6.1,>=3.4->seaborn) (1.4.9)\n",
      "Requirement already satisfied: packaging>=20.0 in c:\\users\\hp\\documents\\internship project 2\\hospital_analytics\\hospital\\lib\\site-packages (from matplotlib!=3.6.1,>=3.4->seaborn) (25.0)\n",
      "Requirement already satisfied: pillow>=8 in c:\\users\\hp\\documents\\internship project 2\\hospital_analytics\\hospital\\lib\\site-packages (from matplotlib!=3.6.1,>=3.4->seaborn) (11.3.0)\n",
      "Requirement already satisfied: pyparsing>=2.3.1 in c:\\users\\hp\\documents\\internship project 2\\hospital_analytics\\hospital\\lib\\site-packages (from matplotlib!=3.6.1,>=3.4->seaborn) (3.2.4)\n",
      "Requirement already satisfied: python-dateutil>=2.7 in c:\\users\\hp\\documents\\internship project 2\\hospital_analytics\\hospital\\lib\\site-packages (from matplotlib!=3.6.1,>=3.4->seaborn) (2.9.0.post0)\n",
      "Requirement already satisfied: pytz>=2020.1 in c:\\users\\hp\\documents\\internship project 2\\hospital_analytics\\hospital\\lib\\site-packages (from pandas>=1.2->seaborn) (2025.2)\n",
      "Requirement already satisfied: tzdata>=2022.7 in c:\\users\\hp\\documents\\internship project 2\\hospital_analytics\\hospital\\lib\\site-packages (from pandas>=1.2->seaborn) (2025.2)\n",
      "Requirement already satisfied: six>=1.5 in c:\\users\\hp\\documents\\internship project 2\\hospital_analytics\\hospital\\lib\\site-packages (from python-dateutil>=2.7->matplotlib!=3.6.1,>=3.4->seaborn) (1.17.0)\n",
      "Note: you may need to restart the kernel to use updated packages.\n"
     ]
    },
    {
     "name": "stderr",
     "output_type": "stream",
     "text": [
      "\n",
      "[notice] A new release of pip is available: 24.2 -> 25.2\n",
      "[notice] To update, run: python.exe -m pip install --upgrade pip\n"
     ]
    },
    {
     "name": "stdout",
     "output_type": "stream",
     "text": [
      "Requirement already satisfied: openpyxl in c:\\users\\hp\\documents\\internship project 2\\hospital_analytics\\hospital\\lib\\site-packages (3.1.5)\n",
      "Requirement already satisfied: et-xmlfile in c:\\users\\hp\\documents\\internship project 2\\hospital_analytics\\hospital\\lib\\site-packages (from openpyxl) (2.0.0)\n",
      "Note: you may need to restart the kernel to use updated packages.\n"
     ]
    },
    {
     "name": "stderr",
     "output_type": "stream",
     "text": [
      "\n",
      "[notice] A new release of pip is available: 24.2 -> 25.2\n",
      "[notice] To update, run: python.exe -m pip install --upgrade pip\n"
     ]
    },
    {
     "name": "stdout",
     "output_type": "stream",
     "text": [
      "Requirement already satisfied: excel in c:\\users\\hp\\documents\\internship project 2\\hospital_analytics\\hospital\\lib\\site-packages (1.0.1)\n",
      "Note: you may need to restart the kernel to use updated packages.\n"
     ]
    },
    {
     "name": "stderr",
     "output_type": "stream",
     "text": [
      "\n",
      "[notice] A new release of pip is available: 24.2 -> 25.2\n",
      "[notice] To update, run: python.exe -m pip install --upgrade pip\n"
     ]
    }
   ],
   "source": [
    "\n",
    "%pip install numpy\n",
    "%pip install pandas\n",
    "%pip install matlplotlib.pyplot \n",
    "%pip install seaborn\n",
    "%pip install openpyxl\n",
    "%pip install excel\n",
    "\n",
    "\n"
   ]
  },
  {
   "cell_type": "code",
   "execution_count": 2,
   "id": "f2f2887f",
   "metadata": {},
   "outputs": [],
   "source": [
    "import numpy as np\n",
    "import pandas as pd\n",
    "import matplotlib.pyplot as mlp\n",
    "import seaborn as sb \n",
    "import os "
   ]
  },
  {
   "cell_type": "code",
   "execution_count": 3,
   "id": "4eb1506d",
   "metadata": {},
   "outputs": [],
   "source": [
    "os.getcwd()\n",
    "\n",
    "df = pd.read_excel(r'c:\\Users\\HP\\Documents\\internship project 2\\data_set\\Enhanced_Analytics.xlsx.xlsx')\n"
   ]
  },
  {
   "cell_type": "code",
   "execution_count": 4,
   "id": "09ab3ac3",
   "metadata": {},
   "outputs": [
    {
     "data": {
      "text/plain": [
       "<bound method DataFrame.info of                  dept_name  total_spending  avg_transaction_cost  \\\n",
       "0               Cardiology    1.140907e+08                269.01   \n",
       "1       Emergency Medicine    3.444893e+07                209.18   \n",
       "2          General Surgery    9.603244e+06                301.22   \n",
       "3                      ICU    6.485949e+06                188.88   \n",
       "4        Internal Medicine    7.347696e+07                269.52   \n",
       "5               Nephrology    7.237307e+06                228.40   \n",
       "6  Obstetrics & Gynecology    7.406723e+06                231.01   \n",
       "7                 Oncology    7.760955e+06                231.89   \n",
       "8              Orthopedics    9.992425e+06                300.01   \n",
       "9               Pediatrics    7.809589e+06                230.02   \n",
       "\n",
       "   cost_volatility  total_quantity  avg_quantity  transaction_count  \\\n",
       "0           342.30      1817961.02          4.29             424113   \n",
       "1           264.70       518577.40          3.15             164689   \n",
       "2           352.80       190367.04          5.97              31881   \n",
       "3           228.97       106652.38          3.11              34339   \n",
       "4           307.85      1315633.17          4.83             272621   \n",
       "5           250.98       135773.87          4.28              31687   \n",
       "6           249.97       137674.89          4.29              32062   \n",
       "7           253.99       104149.17          3.11              33468   \n",
       "8           349.75       197863.57          5.94              33307   \n",
       "9           249.79       144844.30          4.27              33952   \n",
       "\n",
       "   bounced_prescriptions  revenue_lost  formulary_adherence_pct  \n",
       "0                  57443   18153508.47                    55.50  \n",
       "1                   4136     973470.37                    44.51  \n",
       "2                   2518     582595.78                    70.50  \n",
       "3                   3133     659772.71                    54.49  \n",
       "4                  32715    9708921.67                    69.16  \n",
       "5                   2249     495497.17                    71.56  \n",
       "6                   3343     773529.30                    68.98  \n",
       "7                   3202     837754.08                    61.99  \n",
       "8                   3283     754335.88                    68.55  \n",
       "9                   4701    1041587.74                    68.13  >"
      ]
     },
     "execution_count": 4,
     "metadata": {},
     "output_type": "execute_result"
    }
   ],
   "source": [
    "df.info\n"
   ]
  },
  {
   "cell_type": "code",
   "execution_count": 5,
   "id": "6e0abaa2",
   "metadata": {},
   "outputs": [
    {
     "data": {
      "text/plain": [
       "dept_name                   object\n",
       "total_spending             float64\n",
       "avg_transaction_cost       float64\n",
       "cost_volatility            float64\n",
       "total_quantity             float64\n",
       "avg_quantity               float64\n",
       "transaction_count            int64\n",
       "bounced_prescriptions        int64\n",
       "revenue_lost               float64\n",
       "formulary_adherence_pct    float64\n",
       "dtype: object"
      ]
     },
     "execution_count": 5,
     "metadata": {},
     "output_type": "execute_result"
    }
   ],
   "source": [
    "df.dtypes"
   ]
  },
  {
   "cell_type": "code",
   "execution_count": 6,
   "id": "01b35641",
   "metadata": {},
   "outputs": [
    {
     "name": "stdout",
     "output_type": "stream",
     "text": [
      "27831281.196\n",
      "8706416.01\n",
      "0    6.485949e+06\n",
      "1    7.237307e+06\n",
      "2    7.406723e+06\n",
      "3    7.760955e+06\n",
      "4    7.809589e+06\n",
      "5    9.603244e+06\n",
      "6    9.992425e+06\n",
      "7    3.444893e+07\n",
      "8    7.347696e+07\n",
      "9    1.140907e+08\n",
      "Name: total_spending, dtype: float64\n"
     ]
    }
   ],
   "source": [
    "#first business moment for total_spending\n",
    "print(df.total_spending.mean())\n",
    "print(df.total_spending.median())\n",
    "print(df.total_spending.mode())\n"
   ]
  },
  {
   "cell_type": "code",
   "execution_count": 7,
   "id": "4bbb523a",
   "metadata": {},
   "outputs": [
    {
     "name": "stdout",
     "output_type": "stream",
     "text": [
      "466949.681\n",
      "167605.66999999998\n",
      "0     104149.17\n",
      "1     106652.38\n",
      "2     135773.87\n",
      "3     137674.89\n",
      "4     144844.30\n",
      "5     190367.04\n",
      "6     197863.57\n",
      "7     518577.40\n",
      "8    1315633.17\n",
      "9    1817961.02\n",
      "Name: total_quantity, dtype: float64\n"
     ]
    }
   ],
   "source": [
    "#first business moment for total_quantity\n",
    "print(df.total_quantity.mean())\n",
    "print(df.total_quantity.median())\n",
    "print(df.total_quantity.mode())"
   ]
  },
  {
   "cell_type": "code",
   "execution_count": 8,
   "id": "6f6e6b42",
   "metadata": {},
   "outputs": [
    {
     "name": "stdout",
     "output_type": "stream",
     "text": [
      "109211.9\n",
      "33710.0\n",
      "0     31687\n",
      "1     31881\n",
      "2     32062\n",
      "3     33307\n",
      "4     33468\n",
      "5     33952\n",
      "6     34339\n",
      "7    164689\n",
      "8    272621\n",
      "9    424113\n",
      "Name: transaction_count, dtype: int64\n"
     ]
    }
   ],
   "source": [
    "#first business moment for transaction_count\n",
    "print(df.transaction_count.mean())  \n",
    "print(df.transaction_count.median())\n",
    "print(df.transaction_count.mode())"
   ]
  },
  {
   "cell_type": "code",
   "execution_count": 9,
   "id": "c0902ea9",
   "metadata": {},
   "outputs": [
    {
     "name": "stdout",
     "output_type": "stream",
     "text": [
      "3398097.3169999993\n",
      "805641.69\n",
      "0      495497.17\n",
      "1      582595.78\n",
      "2      659772.71\n",
      "3      754335.88\n",
      "4      773529.30\n",
      "5      837754.08\n",
      "6      973470.37\n",
      "7     1041587.74\n",
      "8     9708921.67\n",
      "9    18153508.47\n",
      "Name: revenue_lost, dtype: float64\n"
     ]
    }
   ],
   "source": [
    "#first business moment for revenue_lost\n",
    "print(df.revenue_lost.mean())\n",
    "print(df.revenue_lost.median()) \n",
    "print(df.revenue_lost.mode())"
   ]
  },
  {
   "cell_type": "code",
   "execution_count": 10,
   "id": "7d13a882",
   "metadata": {},
   "outputs": [
    {
     "name": "stdout",
     "output_type": "stream",
     "text": [
      "1368786972763681.8\n",
      "36997121.14156562\n",
      "107604772.91\n"
     ]
    }
   ],
   "source": [
    "#second business moment for total_spending\n",
    "print(df.total_spending.var())  \n",
    "print(df.total_spending.std())\n",
    "print(max(df.total_spending)-min(df.total_spending))"
   ]
  },
  {
   "cell_type": "code",
   "execution_count": 11,
   "id": "da2df481",
   "metadata": {},
   "outputs": [
    {
     "name": "stdout",
     "output_type": "stream",
     "text": [
      "364483950505.67456\n",
      "603725.0620155458\n",
      "1713811.85\n"
     ]
    }
   ],
   "source": [
    "#second business moment for total quantity\n",
    "print(df.total_quantity.var())\n",
    "print(df.total_quantity.std())\n",
    "print(max(df.total_quantity)-min(df.total_quantity))"
   ]
  },
  {
   "cell_type": "code",
   "execution_count": 12,
   "id": "c575d9bf",
   "metadata": {},
   "outputs": [
    {
     "name": "stdout",
     "output_type": "stream",
     "text": [
      "18850436287.433334\n",
      "137296.8910333855\n",
      "392426\n"
     ]
    }
   ],
   "source": [
    "#second business moment for transaction_count\n",
    "print(df.transaction_count.var())\n",
    "print(df.transaction_count.std())\n",
    "print(max(df.transaction_count)-min(df.transaction_count))"
   ]
  },
  {
   "cell_type": "code",
   "execution_count": 13,
   "id": "03da88dc",
   "metadata": {},
   "outputs": [
    {
     "name": "stdout",
     "output_type": "stream",
     "text": [
      "34807151444611.17\n",
      "5899758.592062151\n",
      "17658011.299999997\n"
     ]
    }
   ],
   "source": [
    "#second business moment for revenue_lost\n",
    "print(df.revenue_lost.var())\n",
    "print(df.revenue_lost.std())\n",
    "print(max(df.revenue_lost)-min(df.revenue_lost))"
   ]
  },
  {
   "cell_type": "code",
   "execution_count": 14,
   "id": "d686adef",
   "metadata": {},
   "outputs": [
    {
     "name": "stdout",
     "output_type": "stream",
     "text": [
      "1.8715550705244608\n"
     ]
    }
   ],
   "source": [
    "#third business moment for total_spending\n",
    "print(df.total_spending.skew())"
   ]
  },
  {
   "cell_type": "code",
   "execution_count": 15,
   "id": "0b6f3523",
   "metadata": {},
   "outputs": [
    {
     "name": "stdout",
     "output_type": "stream",
     "text": [
      "1.7904628407938292\n"
     ]
    }
   ],
   "source": [
    "#third business moment for total_quantity\n",
    "print(df.total_quantity.skew())"
   ]
  },
  {
   "cell_type": "code",
   "execution_count": 16,
   "id": "572d3a20",
   "metadata": {},
   "outputs": [
    {
     "name": "stdout",
     "output_type": "stream",
     "text": [
      "1.7524153912710758\n"
     ]
    }
   ],
   "source": [
    "#third business moment for transaction_count\n",
    "print(df.transaction_count.skew())"
   ]
  },
  {
   "cell_type": "code",
   "execution_count": 17,
   "id": "982f9abc",
   "metadata": {},
   "outputs": [
    {
     "name": "stdout",
     "output_type": "stream",
     "text": [
      "2.2426947513554665\n"
     ]
    }
   ],
   "source": [
    "#third business moment for revenue_lost\n",
    "print(df.revenue_lost.skew())"
   ]
  },
  {
   "cell_type": "code",
   "execution_count": 18,
   "id": "7f1e750c",
   "metadata": {},
   "outputs": [
    {
     "name": "stdout",
     "output_type": "stream",
     "text": [
      "2.743685086448296\n"
     ]
    }
   ],
   "source": [
    "#fourth business moment for total_spending\n",
    "print(df.total_spending.kurt())"
   ]
  },
  {
   "cell_type": "code",
   "execution_count": 19,
   "id": "aaaff90f",
   "metadata": {},
   "outputs": [
    {
     "name": "stdout",
     "output_type": "stream",
     "text": [
      "2.11735267969285\n"
     ]
    }
   ],
   "source": [
    "#fourth business moment for total_Quantity\n",
    "print(df.total_quantity.kurt())"
   ]
  },
  {
   "cell_type": "code",
   "execution_count": 20,
   "id": "d90bf04f",
   "metadata": {},
   "outputs": [
    {
     "name": "stdout",
     "output_type": "stream",
     "text": [
      "2.289716275512353\n"
     ]
    }
   ],
   "source": [
    "#fourth business moment for transaction_count\n",
    "print(df.transaction_count.kurt())\n"
   ]
  },
  {
   "cell_type": "code",
   "execution_count": 21,
   "id": "22602c57",
   "metadata": {},
   "outputs": [
    {
     "name": "stdout",
     "output_type": "stream",
     "text": [
      "4.557021208802015\n"
     ]
    }
   ],
   "source": [
    "#fourth business moment for revenue_lost\n",
    "print(df.revenue_lost.kurt())"
   ]
  },
  {
   "cell_type": "code",
   "execution_count": 22,
   "id": "fc1f2ac6",
   "metadata": {},
   "outputs": [
    {
     "data": {
      "text/plain": [
       "{'whiskers': [<matplotlib.lines.Line2D at 0x23644c21a60>,\n",
       "  <matplotlib.lines.Line2D at 0x23644c21ee0>],\n",
       " 'caps': [<matplotlib.lines.Line2D at 0x23644c223f0>,\n",
       "  <matplotlib.lines.Line2D at 0x23644c22780>],\n",
       " 'boxes': [<matplotlib.lines.Line2D at 0x2364d9129f0>],\n",
       " 'medians': [<matplotlib.lines.Line2D at 0x23644c22cf0>],\n",
       " 'fliers': [<matplotlib.lines.Line2D at 0x23644c23440>],\n",
       " 'means': []}"
      ]
     },
     "execution_count": 22,
     "metadata": {},
     "output_type": "execute_result"
    },
    {
     "data": {
      "image/png": "[encoded data removed]",
      "text/plain": [
       "<Figure size 640x480 with 1 Axes>"
      ]
     },
     "metadata": {},
     "output_type": "display_data"
    }
   ],
   "source": [
    "#univariate analysis\n",
    "mlp.boxplot(df.total_spending)\n"
   ]
  },
  {
   "cell_type": "code",
   "execution_count": 23,
   "id": "03bfff36",
   "metadata": {},
   "outputs": [
    {
     "data": {
      "text/plain": [
       "{'whiskers': [<matplotlib.lines.Line2D at 0x23644bfa600>,\n",
       "  <matplotlib.lines.Line2D at 0x23644bfae40>],\n",
       " 'caps': [<matplotlib.lines.Line2D at 0x23644bfb3e0>,\n",
       "  <matplotlib.lines.Line2D at 0x23644bf8230>],\n",
       " 'boxes': [<matplotlib.lines.Line2D at 0x23644bfbad0>],\n",
       " 'medians': [<matplotlib.lines.Line2D at 0x23644bf85f0>],\n",
       " 'fliers': [<matplotlib.lines.Line2D at 0x23644bf8740>],\n",
       " 'means': []}"
      ]
     },
     "execution_count": 23,
     "metadata": {},
     "output_type": "execute_result"
    },
    {
     "data": {
      "image/png": "[encoded data removed]",
      "text/plain": [
       "<Figure size 640x480 with 1 Axes>"
      ]
     },
     "metadata": {},
     "output_type": "display_data"
    }
   ],
   "source": [
    "#univariate analysis for total_quantity\n",
    "mlp.boxplot(df.total_quantity)"
   ]
  },
  {
   "cell_type": "code",
   "execution_count": 24,
   "id": "d81a2369",
   "metadata": {},
   "outputs": [
    {
     "data": {
      "text/plain": [
       "(array([7., 0., 0., 1., 0., 0., 1., 0., 0., 1.]),\n",
       " array([ 31687. ,  70929.6, 110172.2, 149414.8, 188657.4, 227900. ,\n",
       "        267142.6, 306385.2, 345627.8, 384870.4, 424113. ]),\n",
       " <BarContainer object of 10 artists>)"
      ]
     },
     "execution_count": 24,
     "metadata": {},
     "output_type": "execute_result"
    },
    {
     "data": {
      "image/png": "[encoded data removed]",
      "text/plain": [
       "<Figure size 640x480 with 1 Axes>"
      ]
     },
     "metadata": {},
     "output_type": "display_data"
    }
   ],
   "source": [
    "#univariate analysis for transaction_count\n",
    "mlp.hist(df.transaction_count)"
   ]
  },
  {
   "cell_type": "code",
   "execution_count": 25,
   "id": "eaa37c80",
   "metadata": {},
   "outputs": [
    {
     "data": {
      "text/plain": [
       "<Axes: xlabel='revenue_lost', ylabel='Density'>"
      ]
     },
     "execution_count": 25,
     "metadata": {},
     "output_type": "execute_result"
    },
    {
     "data": {
      "image/png": "[encoded data removed]",
      "text/plain": [
       "<Figure size 640x480 with 1 Axes>"
      ]
     },
     "metadata": {},
     "output_type": "display_data"
    }
   ],
   "source": [
    "#univariate analysis for revenue_lost\n",
    "sb.kdeplot(df.revenue_lost)"
   ]
  },
  {
   "cell_type": "code",
   "execution_count": 26,
   "id": "921aad75",
   "metadata": {},
   "outputs": [
    {
     "data": {
      "text/plain": [
       "<Axes: xlabel='total_spending', ylabel='total_quantity'>"
      ]
     },
     "execution_count": 26,
     "metadata": {},
     "output_type": "execute_result"
    },
    {
     "data": {
      "image/png": "[encoded data removed]",
      "text/plain": [
       "<Figure size 640x480 with 1 Axes>"
      ]
     },
     "metadata": {},
     "output_type": "display_data"
    }
   ],
   "source": [
    "#bivariate analysis for total_spending and total_quantity\n",
    "sb.scatterplot(x=df.total_spending,y=df.total_quantity)"
   ]
  },
  {
   "cell_type": "code",
   "execution_count": 27,
   "id": "812047dd",
   "metadata": {},
   "outputs": [
    {
     "data": {
      "text/plain": [
       "<Axes: xlabel='revenue_lost', ylabel='total_quantity'>"
      ]
     },
     "execution_count": 27,
     "metadata": {},
     "output_type": "execute_result"
    },
    {
     "data": {
      "image/png": "[encoded data removed]",
      "text/plain": [
       "<Figure size 640x480 with 1 Axes>"
      ]
     },
     "metadata": {},
     "output_type": "display_data"
    }
   ],
   "source": [
    "#bivariate analysis for revenue_lost and total_quantity\n",
    "sb.scatterplot(x=df.revenue_lost,y=df.total_quantity)"
   ]
  },
  {
   "cell_type": "code",
   "execution_count": 28,
   "id": "8b045dfb",
   "metadata": {},
   "outputs": [
    {
     "data": {
      "text/plain": [
       "<seaborn.axisgrid.PairGrid at 0x23654e67980>"
      ]
     },
     "execution_count": 28,
     "metadata": {},
     "output_type": "execute_result"
    },
    {
     "data": {
      "image/png": "[encoded data removed]",
      "text/plain": [
       "<Figure size 2250x2250 with 90 Axes>"
      ]
     },
     "metadata": {},
     "output_type": "display_data"
    }
   ],
   "source": [
    "#multivariate analysis for total_spending,total_quantity and revenue_lost\n",
    "sb.pairplot(df)"
   ]
  },
  {
   "cell_type": "code",
   "execution_count": 29,
   "id": "723e479e",
   "metadata": {},
   "outputs": [
    {
     "name": "stdout",
     "output_type": "stream",
     "text": [
      "0\n"
     ]
    }
   ],
   "source": [
    "duplicate = df.duplicated()\n",
    "print(duplicate.sum())\n",
    "\n"
   ]
  },
  {
   "cell_type": "code",
   "execution_count": 30,
   "id": "b0595ad4",
   "metadata": {},
   "outputs": [],
   "source": [
    "iqr = df.total_spending.quantile(0.75) - df.total_spending.quantile(0.25)\n",
    "upper_limit = df.total_spending.quantile(0.75) + (1.5 * iqr)\n",
    "lower_limit = df.total_spending.quantile(0.25) - (1.5 * iqr)"
   ]
  },
  {
   "cell_type": "code",
   "execution_count": 31,
   "id": "0e0dfef9",
   "metadata": {},
   "outputs": [],
   "source": [
    "iqr = df.total_quantity.quantile(0.75)-df.total_quantity.quantile(0.25)\n",
    "upper_limit = df.total_quantity.quantile(0.75)+ (1.5*iqr)\n",
    "lower_limit = df.total_quantity.quantile(0.25)-(1.5*iqr)\n"
   ]
  },
  {
   "cell_type": "code",
   "execution_count": 32,
   "id": "6707dd07",
   "metadata": {},
   "outputs": [],
   "source": [
    "iqr = df.transaction_count.quantile(0.75)-df.transaction_count.quantile(0.25)\n",
    "upper_limit = df.transaction_count.quantile(0.75)+ (1.5*iqr)    \n",
    "lower_limit = df.transaction_count.quantile(0.25)-(1.5*iqr)"
   ]
  },
  {
   "cell_type": "code",
   "execution_count": 33,
   "id": "54867e7f",
   "metadata": {},
   "outputs": [],
   "source": [
    "iqr = df.revenue_lost.quantile(0.75)-df.revenue_lost.quantile(0.25)\n",
    "upper_limit = df.revenue_lost.quantile(0.75)+ (1.5 * iqr)\n",
    "lower_limit = df.revenue_lost.quantile(0.25)-(1.5 * iqr)"
   ]
  },
  {
   "cell_type": "code",
   "execution_count": 34,
   "id": "676f404d",
   "metadata": {},
   "outputs": [
    {
     "name": "stdout",
     "output_type": "stream",
     "text": [
      "Requirement already satisfied: feature_engine in c:\\users\\hp\\documents\\internship project 2\\hospital_analytics\\hospital\\lib\\site-packages (1.9.3)\n",
      "Requirement already satisfied: numpy>=1.18.2 in c:\\users\\hp\\documents\\internship project 2\\hospital_analytics\\hospital\\lib\\site-packages (from feature_engine) (2.3.3)\n",
      "Requirement already satisfied: pandas>=2.2.0 in c:\\users\\hp\\documents\\internship project 2\\hospital_analytics\\hospital\\lib\\site-packages (from feature_engine) (2.3.2)\n",
      "Requirement already satisfied: scikit-learn>=1.4.0 in c:\\users\\hp\\documents\\internship project 2\\hospital_analytics\\hospital\\lib\\site-packages (from feature_engine) (1.7.2)\n",
      "Requirement already satisfied: scipy>=1.4.1 in c:\\users\\hp\\documents\\internship project 2\\hospital_analytics\\hospital\\lib\\site-packages (from feature_engine) (1.16.2)\n",
      "Requirement already satisfied: statsmodels>=0.11.1 in c:\\users\\hp\\documents\\internship project 2\\hospital_analytics\\hospital\\lib\\site-packages (from feature_engine) (0.14.5)\n",
      "Requirement already satisfied: python-dateutil>=2.8.2 in c:\\users\\hp\\documents\\internship project 2\\hospital_analytics\\hospital\\lib\\site-packages (from pandas>=2.2.0->feature_engine) (2.9.0.post0)\n",
      "Requirement already satisfied: pytz>=2020.1 in c:\\users\\hp\\documents\\internship project 2\\hospital_analytics\\hospital\\lib\\site-packages (from pandas>=2.2.0->feature_engine) (2025.2)\n",
      "Requirement already satisfied: tzdata>=2022.7 in c:\\users\\hp\\documents\\internship project 2\\hospital_analytics\\hospital\\lib\\site-packages (from pandas>=2.2.0->feature_engine) (2025.2)\n",
      "Requirement already satisfied: joblib>=1.2.0 in c:\\users\\hp\\documents\\internship project 2\\hospital_analytics\\hospital\\lib\\site-packages (from scikit-learn>=1.4.0->feature_engine) (1.5.2)\n",
      "Requirement already satisfied: threadpoolctl>=3.1.0 in c:\\users\\hp\\documents\\internship project 2\\hospital_analytics\\hospital\\lib\\site-packages (from scikit-learn>=1.4.0->feature_engine) (3.6.0)\n",
      "Requirement already satisfied: patsy>=0.5.6 in c:\\users\\hp\\documents\\internship project 2\\hospital_analytics\\hospital\\lib\\site-packages (from statsmodels>=0.11.1->feature_engine) (1.0.1)\n",
      "Requirement already satisfied: packaging>=21.3 in c:\\users\\hp\\documents\\internship project 2\\hospital_analytics\\hospital\\lib\\site-packages (from statsmodels>=0.11.1->feature_engine) (25.0)\n",
      "Requirement already satisfied: six>=1.5 in c:\\users\\hp\\documents\\internship project 2\\hospital_analytics\\hospital\\lib\\site-packages (from python-dateutil>=2.8.2->pandas>=2.2.0->feature_engine) (1.17.0)\n",
      "Note: you may need to restart the kernel to use updated packages.\n"
     ]
    },
    {
     "name": "stderr",
     "output_type": "stream",
     "text": [
      "\n",
      "[notice] A new release of pip is available: 24.2 -> 25.2\n",
      "[notice] To update, run: python.exe -m pip install --upgrade pip\n"
     ]
    }
   ],
   "source": [
    "#winsorization Iqr method\n",
    "%pip install feature_engine\n",
    "\n",
    "from feature_engine.outliers import Winsorizer\n",
    "winsor = Winsorizer(capping_method='iqr', tail='both', fold=1.5, variables=['total_spending', 'total_quantity', 'transaction_count', 'revenue_lost'])\n",
    "df_treated = winsor.fit_transform(df[['total_spending', 'total_quantity', 'transaction_count', 'revenue_lost']])"
   ]
  },
  {
   "cell_type": "code",
   "execution_count": 35,
   "id": "390b1012",
   "metadata": {},
   "outputs": [
    {
     "data": {
      "text/plain": [
       "<Axes: >"
      ]
     },
     "execution_count": 35,
     "metadata": {},
     "output_type": "execute_result"
    },
    {
     "data": {
      "image/png": "[encoded data removed]",
      "text/plain": [
       "<Figure size 640x480 with 1 Axes>"
      ]
     },
     "metadata": {},
     "output_type": "display_data"
    }
   ],
   "source": [
    "sb.boxplot(df_treated)"
   ]
  },
  {
   "cell_type": "code",
   "execution_count": 36,
   "id": "2bccfbf3",
   "metadata": {},
   "outputs": [
    {
     "data": {
      "text/plain": [
       "total_spending       0\n",
       "total_quantity       0\n",
       "transaction_count    0\n",
       "revenue_lost         0\n",
       "dtype: int64"
      ]
     },
     "execution_count": 36,
     "metadata": {},
     "output_type": "execute_result"
    }
   ],
   "source": [
    "#missing value analysis\n",
    "df_treated.isnull().sum()"
   ]
  },
  {
   "cell_type": "code",
   "execution_count": 37,
   "id": "0cd0208b",
   "metadata": {},
   "outputs": [
    {
     "name": "stdout",
     "output_type": "stream",
     "text": [
      "20993331.982750002\n",
      "8706416.01\n",
      "0    5.959410e+07\n",
      "Name: total_spending, dtype: float64\n"
     ]
    }
   ],
   "source": [
    "#after treatment of outliers\n",
    "#busness moments\n",
    "#first business moment for total_spending\n",
    "print(df_treated.total_spending.mean())\n",
    "print(df_treated.total_spending.median())\n",
    "print(df_treated.total_spending.mode())\n"
   ]
  },
  {
   "cell_type": "code",
   "execution_count": 38,
   "id": "0322a1e0",
   "metadata": {},
   "outputs": [
    {
     "name": "stdout",
     "output_type": "stream",
     "text": [
      "331914.99574999994\n",
      "167605.66999999998\n",
      "0    891623.66875\n",
      "Name: total_quantity, dtype: float64\n"
     ]
    }
   ],
   "source": [
    "#first business moment for total_quantity\n",
    "print(df_treated.total_quantity.mean()) \n",
    "print(df_treated.total_quantity.median())\n",
    "print(df_treated.total_quantity.mode())"
   ]
  },
  {
   "cell_type": "code",
   "execution_count": 39,
   "id": "f35d73d6",
   "metadata": {},
   "outputs": [
    {
     "name": "stdout",
     "output_type": "stream",
     "text": [
      "94969.9875\n",
      "33710.0\n",
      "0     31687.000\n",
      "1     31881.000\n",
      "2     32062.000\n",
      "3     33307.000\n",
      "4     33468.000\n",
      "5     33952.000\n",
      "6     34339.000\n",
      "7    164689.000\n",
      "8    272621.000\n",
      "9    281693.875\n",
      "Name: transaction_count, dtype: float64\n"
     ]
    }
   ],
   "source": [
    "#first business moment for transaction_count\n",
    "print(df_treated.transaction_count.mean())\n",
    "print(df_treated.transaction_count.median())\n",
    "print(df_treated.transaction_count.mode())"
   ]
  },
  {
   "cell_type": "code",
   "execution_count": 40,
   "id": "fd7cb1b3",
   "metadata": {},
   "outputs": [
    {
     "name": "stdout",
     "output_type": "stream",
     "text": [
      "919109.451\n",
      "805641.69\n",
      "0    1536275.74\n",
      "Name: revenue_lost, dtype: float64\n"
     ]
    }
   ],
   "source": [
    "#first business moment for revenue_lost\n",
    "print(df_treated.revenue_lost.mean())\n",
    "print(df_treated.revenue_lost.median())\n",
    "print(df_treated.revenue_lost.mode())"
   ]
  },
  {
   "cell_type": "code",
   "execution_count": 41,
   "id": "abc4627e",
   "metadata": {},
   "outputs": [
    {
     "data": {
      "text/plain": [
       "{'whiskers': [<matplotlib.lines.Line2D at 0x2365a3f9100>,\n",
       "  <matplotlib.lines.Line2D at 0x2365a34faa0>],\n",
       " 'caps': [<matplotlib.lines.Line2D at 0x23658dd8800>,\n",
       "  <matplotlib.lines.Line2D at 0x23658e34290>],\n",
       " 'boxes': [<matplotlib.lines.Line2D at 0x2365a4171a0>],\n",
       " 'medians': [<matplotlib.lines.Line2D at 0x23658df2b40>],\n",
       " 'fliers': [<matplotlib.lines.Line2D at 0x2365a416150>],\n",
       " 'means': []}"
      ]
     },
     "execution_count": 41,
     "metadata": {},
     "output_type": "execute_result"
    },
    {
     "data": {
      "image/png": "[encoded data removed]",
      "text/plain": [
       "<Figure size 640x480 with 1 Axes>"
      ]
     },
     "metadata": {},
     "output_type": "display_data"
    }
   ],
   "source": [
    "#after treatment of outliers\n",
    "mlp.boxplot(df_treated.total_spending)\n"
   ]
  },
  {
   "cell_type": "code",
   "execution_count": 42,
   "id": "f3b58e90",
   "metadata": {},
   "outputs": [
    {
     "data": {
      "text/plain": [
       "{'whiskers': [<matplotlib.lines.Line2D at 0x2365a49a150>,\n",
       "  <matplotlib.lines.Line2D at 0x2365a49a450>],\n",
       " 'caps': [<matplotlib.lines.Line2D at 0x2365a49a6f0>,\n",
       "  <matplotlib.lines.Line2D at 0x2365a49aa20>],\n",
       " 'boxes': [<matplotlib.lines.Line2D at 0x23658db0830>],\n",
       " 'medians': [<matplotlib.lines.Line2D at 0x2365a49ac00>],\n",
       " 'fliers': [<matplotlib.lines.Line2D at 0x2365a49af30>],\n",
       " 'means': []}"
      ]
     },
     "execution_count": 42,
     "metadata": {},
     "output_type": "execute_result"
    },
    {
     "data": {
      "image/png": "[encoded data removed]",
      "text/plain": [
       "<Figure size 640x480 with 1 Axes>"
      ]
     },
     "metadata": {},
     "output_type": "display_data"
    }
   ],
   "source": [
    "#after treatment of outliers\n",
    "mlp.boxplot(df_treated.total_quantity)"
   ]
  },
  {
   "cell_type": "code",
   "execution_count": 43,
   "id": "a192a0dd",
   "metadata": {},
   "outputs": [
    {
     "data": {
      "text/plain": [
       "{'whiskers': [<matplotlib.lines.Line2D at 0x2365a4fe930>,\n",
       "  <matplotlib.lines.Line2D at 0x2365a4fec60>],\n",
       " 'caps': [<matplotlib.lines.Line2D at 0x2365a4fef30>,\n",
       "  <matplotlib.lines.Line2D at 0x2365a4ff260>],\n",
       " 'boxes': [<matplotlib.lines.Line2D at 0x2365a4fe6f0>],\n",
       " 'medians': [<matplotlib.lines.Line2D at 0x2365a4ff530>],\n",
       " 'fliers': [<matplotlib.lines.Line2D at 0x2365a4ff800>],\n",
       " 'means': []}"
      ]
     },
     "execution_count": 43,
     "metadata": {},
     "output_type": "execute_result"
    },
    {
     "data": {
      "image/png": "[encoded data removed]",
      "text/plain": [
       "<Figure size 640x480 with 1 Axes>"
      ]
     },
     "metadata": {},
     "output_type": "display_data"
    }
   ],
   "source": [
    "#after treatment of outliers\n",
    "mlp.boxplot(df_treated.transaction_count)"
   ]
  },
  {
   "cell_type": "code",
   "execution_count": 44,
   "id": "e15f07e5",
   "metadata": {},
   "outputs": [
    {
     "data": {
      "text/plain": [
       "<Axes: ylabel='revenue_lost'>"
      ]
     },
     "execution_count": 44,
     "metadata": {},
     "output_type": "execute_result"
    },
    {
     "data": {
      "image/png": "[encoded data removed]",
      "text/plain": [
       "<Figure size 640x480 with 1 Axes>"
      ]
     },
     "metadata": {},
     "output_type": "display_data"
    }
   ],
   "source": [
    "#after treatment of outliers\n",
    "sb.boxplot(df_treated.revenue_lost)\n"
   ]
  },
  {
   "cell_type": "code",
   "execution_count": 45,
   "id": "5fc46bd0",
   "metadata": {},
   "outputs": [],
   "source": [
    "os.getcwd()\n",
    "\n",
    "df2 = pd.read_excel(r'c:\\Users\\HP\\Documents\\internship project 2\\data_set\\Enhanced_Hospital_Dataset.xlsx.xlsx',sheet_name= \"Vendors\")\n"
   ]
  },
  {
   "cell_type": "code",
   "execution_count": 46,
   "id": "d74f338d",
   "metadata": {},
   "outputs": [
    {
     "data": {
      "text/plain": [
       "<bound method DataFrame.info of    vendor_id                   vendor_name vendor_type performance_category  \\\n",
       "0       V001     Salehiya Medical Supplies       Tier1            excellent   \n",
       "1       V002         Al Zahrawi Healthcare       Tier1            excellent   \n",
       "2       V003     Saudi Pharma Distribution       Tier1                 good   \n",
       "3       V004    National Medical Supply Co       Tier1            excellent   \n",
       "4       V005  Gulf Healthcare Distribution       Tier1                 good   \n",
       "5       V006       Arabian Medical Trading       Tier1            excellent   \n",
       "6       V007     Riyadh Pharmaceutical Hub       Tier1                 good   \n",
       "7       V008   Kingdom Medical Enterprises       Tier1             volatile   \n",
       "8       V009        Central Medical Supply       Tier2                 good   \n",
       "9       V010         Eastern Healthcare Co       Tier2                 good   \n",
       "10      V011       Western Medical Trading       Tier2                 good   \n",
       "11      V012  Northern Pharma Distribution       Tier2                 good   \n",
       "12      V013       Regional Healthcare Hub       Tier2                 good   \n",
       "13      V014            Mideast Medical Co       Tier2                 good   \n",
       "14      V015      Arabia Healthcare Supply       Tier2                 good   \n",
       "15      V016          Najd Medical Trading       Tier2                 good   \n",
       "16      V017               Hijaz Pharma Co       Tier2                 good   \n",
       "17      V018           Asir Medical Supply       Tier2                 good   \n",
       "18      V019              Tabuk Healthcare       Tier2                 good   \n",
       "19      V020              Jazan Medical Co       Tier2                 good   \n",
       "20      V021             Qassim Pharma Hub       Tier2                 good   \n",
       "21      V022           Hail Medical Supply       Tier2                 good   \n",
       "22      V023          Baha Medical Trading       Tier2                 good   \n",
       "23      V024            Jouf Healthcare Co       Tier2                 good   \n",
       "24      V025        Riyadh Regional Supply       Tier2                 good   \n",
       "25      V026             Mecca Medical Hub       Tier2                 good   \n",
       "26      V027              Medina Pharma Co       Tier2                 good   \n",
       "27      V028         Dammam Medical Supply       Tier2                 good   \n",
       "28      V029             Khobar Healthcare       Tier2             volatile   \n",
       "29      V030        Jubail Medical Trading       Tier2             volatile   \n",
       "30      V031               Yanbu Pharma Co       Tier2             volatile   \n",
       "31      V032           Taif Medical Supply       Tier2             volatile   \n",
       "32      V033            Abha Healthcare Co       Tier2             volatile   \n",
       "33      V034        Local Pharmacy Network       Tier3             volatile   \n",
       "34      V035      Emergency Medical Supply       Tier3             volatile   \n",
       "35      V036     Quick Response Healthcare       Tier3             volatile   \n",
       "36      V037         Urgent Care Supply Co       Tier3             volatile   \n",
       "37      V038            Fast Track Medical       Tier3             volatile   \n",
       "38      V039     Immediate Response Pharma       Tier3             volatile   \n",
       "39      V040     Express Healthcare Supply       Tier3             volatile   \n",
       "40      V041         Rapid Medical Trading       Tier3             volatile   \n",
       "41      V042               Swift Pharma Co       Tier3             volatile   \n",
       "42      V043           Instant Medical Hub       Tier3             volatile   \n",
       "43      V044       Speed Healthcare Supply       Tier3             volatile   \n",
       "44      V045              Flash Medical Co       Tier3             volatile   \n",
       "45      V046      Lightning Pharma Trading       Tier3             volatile   \n",
       "46      V047          Turbo Medical Supply       Tier3             volatile   \n",
       "47      V048          Rocket Healthcare Co       Tier3             volatile   \n",
       "48      V049           Jet Medical Trading       Tier3                 poor   \n",
       "49      V050            Zoom Pharma Supply       Tier3                 poor   \n",
       "50      V051               Rush Medical Co       Tier3                 poor   \n",
       "51      V052       Dash Healthcare Trading       Tier3                 poor   \n",
       "52      V053         Sprint Medical Supply       Tier3                 poor   \n",
       "\n",
       "     specialization  price_volatility  delivery_reliability country_of_origin  \\\n",
       "0           general              0.05                  0.95             Saudi   \n",
       "1          surgical              0.05                  0.95             Saudi   \n",
       "2          pharmacy              0.10                  0.88             Saudi   \n",
       "3           general              0.05                  0.95             Saudi   \n",
       "4       consumables              0.10                  0.88             Saudi   \n",
       "5          pharmacy              0.05                  0.95             Saudi   \n",
       "6   specialty_drugs              0.10                  0.88             Saudi   \n",
       "7           general              0.30                  0.75             Saudi   \n",
       "8           general              0.10                  0.88             Saudi   \n",
       "9           general              0.10                  0.88             Saudi   \n",
       "10         pharmacy              0.10                  0.88             Saudi   \n",
       "11      consumables              0.10                  0.88             Saudi   \n",
       "12          general              0.10                  0.88             Saudi   \n",
       "13          general              0.10                  0.88             Saudi   \n",
       "14          general              0.10                  0.88             Saudi   \n",
       "15         pharmacy              0.10                  0.88             Saudi   \n",
       "16         pharmacy              0.10                  0.88             Saudi   \n",
       "17         pharmacy              0.10                  0.88             Saudi   \n",
       "18      consumables              0.10                  0.88             Saudi   \n",
       "19          general              0.10                  0.88             Saudi   \n",
       "20      consumables              0.10                  0.88             Saudi   \n",
       "21         pharmacy              0.10                  0.88             Saudi   \n",
       "22          general              0.10                  0.88             Saudi   \n",
       "23         pharmacy              0.10                  0.88             Saudi   \n",
       "24         pharmacy              0.10                  0.88             Saudi   \n",
       "25          general              0.10                  0.88             Saudi   \n",
       "26      consumables              0.10                  0.88             Saudi   \n",
       "27          general              0.10                  0.88             Saudi   \n",
       "28         pharmacy              0.30                  0.75             Saudi   \n",
       "29      consumables              0.30                  0.75             Saudi   \n",
       "30         pharmacy              0.30                  0.75             Saudi   \n",
       "31          general              0.30                  0.75             Saudi   \n",
       "32      consumables              0.30                  0.75             Saudi   \n",
       "33        emergency              0.30                  0.75             Saudi   \n",
       "34        emergency              0.30                  0.75             Saudi   \n",
       "35        emergency              0.30                  0.75             Saudi   \n",
       "36        emergency              0.30                  0.75             Saudi   \n",
       "37        emergency              0.30                  0.75             Saudi   \n",
       "38        emergency              0.30                  0.75             Saudi   \n",
       "39        emergency              0.30                  0.75             Saudi   \n",
       "40        emergency              0.30                  0.75             Saudi   \n",
       "41        emergency              0.30                  0.75             Saudi   \n",
       "42        emergency              0.30                  0.75             Saudi   \n",
       "43        emergency              0.30                  0.75             Saudi   \n",
       "44        emergency              0.30                  0.75             Saudi   \n",
       "45        emergency              0.30                  0.75             Saudi   \n",
       "46        emergency              0.30                  0.75             Saudi   \n",
       "47        emergency              0.30                  0.75             Saudi   \n",
       "48        emergency              0.25                  0.65             Saudi   \n",
       "49        emergency              0.25                  0.65             Saudi   \n",
       "50        emergency              0.25                  0.65             Saudi   \n",
       "51        emergency              0.25                  0.65             Saudi   \n",
       "52        emergency              0.25                  0.65             Saudi   \n",
       "\n",
       "    average_lead_time_days  lead_time_variance  fill_rate_percentage  \\\n",
       "0                        9                   5                  96.1   \n",
       "1                       10                   6                  96.1   \n",
       "2                       13                   8                  91.0   \n",
       "3                       11                   4                  96.8   \n",
       "4                        9                   4                  94.1   \n",
       "5                        9                   3                  98.5   \n",
       "6                       12                   3                  89.4   \n",
       "7                       35                   3                  89.3   \n",
       "8                       16                   8                  94.3   \n",
       "9                       13                   7                  94.9   \n",
       "10                       8                   3                  94.3   \n",
       "11                      14                   4                  91.6   \n",
       "12                      18                   5                  92.5   \n",
       "13                      14                   7                  91.8   \n",
       "14                      18                   6                  94.7   \n",
       "15                      16                   8                  94.1   \n",
       "16                      13                   8                  91.8   \n",
       "17                      14                   4                  89.2   \n",
       "18                      18                   5                  92.4   \n",
       "19                       9                   7                  88.1   \n",
       "20                      16                   2                  92.4   \n",
       "21                      11                   3                  93.4   \n",
       "22                      13                   8                  94.4   \n",
       "23                       8                   4                  93.5   \n",
       "24                      14                   7                  89.7   \n",
       "25                      13                   8                  93.7   \n",
       "26                      14                   3                  91.9   \n",
       "27                      17                   5                  88.9   \n",
       "28                      26                   3                  78.7   \n",
       "29                      35                   5                  86.9   \n",
       "30                      16                   2                  71.9   \n",
       "31                      29                   7                  80.9   \n",
       "32                      14                   5                  82.7   \n",
       "33                      17                   4                  73.9   \n",
       "34                      22                   8                  75.2   \n",
       "35                      10                   7                  89.7   \n",
       "36                      13                   2                  72.8   \n",
       "37                      21                   8                  74.2   \n",
       "38                      30                   2                  74.2   \n",
       "39                      35                   3                  73.6   \n",
       "40                      29                   8                  70.6   \n",
       "41                      29                   6                  70.1   \n",
       "42                      29                   2                  80.7   \n",
       "43                      13                   3                  70.6   \n",
       "44                      14                   4                  75.5   \n",
       "45                      30                   4                  79.3   \n",
       "46                      16                   4                  73.5   \n",
       "47                      13                   6                  85.9   \n",
       "48                      38                   5                  70.8   \n",
       "49                      25                   6                  62.7   \n",
       "50                      43                   7                  80.5   \n",
       "51                      33                   5                  67.3   \n",
       "52                      26                   5                  60.7   \n",
       "\n",
       "    quality_rating  payment_terms  established_year  market_share_percent  \n",
       "0              4.6             60              1994                  9.84  \n",
       "1              4.8             60              1991                 11.62  \n",
       "2              4.1             30              1996                 11.21  \n",
       "3              4.6             30              1992                  7.64  \n",
       "4              4.1             60              2006                  7.28  \n",
       "5              4.5             60              2000                 11.78  \n",
       "6              4.5             60              2005                  9.21  \n",
       "7              3.2             90              2008                  5.83  \n",
       "8              3.9             90              2011                  2.16  \n",
       "9              4.5             90              2016                  2.47  \n",
       "10             4.5             60              2017                  1.63  \n",
       "11             3.8             60              2020                  2.67  \n",
       "12             4.2             30              1996                  2.49  \n",
       "13             3.9             60              1996                  1.70  \n",
       "14             4.1             60              1990                  1.60  \n",
       "15             4.3             90              2004                  1.83  \n",
       "16             4.2             60              1993                  2.85  \n",
       "17             4.2             90              2003                  1.76  \n",
       "18             4.3             30              1992                  2.61  \n",
       "19             4.5             30              2005                  2.50  \n",
       "20             4.2             30              2011                  1.58  \n",
       "21             4.2             30              1996                  2.71  \n",
       "22             4.1             90              2012                  2.57  \n",
       "23             4.2             60              2018                  2.32  \n",
       "24             4.4             60              1991                  1.03  \n",
       "25             4.4             90              2000                  1.67  \n",
       "26             4.1             90              2010                  1.79  \n",
       "27             4.2             90              1995                  1.81  \n",
       "28             2.6             30              2006                  0.87  \n",
       "29             3.4             60              2016                  1.47  \n",
       "30             3.2             90              2014                  1.53  \n",
       "31             4.0             90              2002                  0.74  \n",
       "32             3.7             30              1997                  1.61  \n",
       "33             3.8             90              2014                  0.59  \n",
       "34             2.6             30              2019                  0.22  \n",
       "35             3.8             30              2004                  0.66  \n",
       "36             2.9             30              1992                  0.18  \n",
       "37             2.7             30              2003                  0.18  \n",
       "38             3.1             60              2010                  0.65  \n",
       "39             2.5             30              2011                  0.46  \n",
       "40             4.0             60              2005                  0.70  \n",
       "41             3.3             60              2019                  0.21  \n",
       "42             3.3             30              1996                  0.63  \n",
       "43             2.7             30              2013                  0.53  \n",
       "44             2.8             30              2001                  0.54  \n",
       "45             3.7             60              2006                  0.67  \n",
       "46             3.5             90              1998                  0.68  \n",
       "47             3.4             30              2015                  0.26  \n",
       "48             2.7             90              2013                  0.29  \n",
       "49             2.6             30              2008                  0.34  \n",
       "50             2.7             30              2020                  0.43  \n",
       "51             3.2             90              2020                  0.68  \n",
       "52             2.3             60              2003                  0.58  >"
      ]
     },
     "execution_count": 46,
     "metadata": {},
     "output_type": "execute_result"
    }
   ],
   "source": [
    "df2.info"
   ]
  },
  {
   "cell_type": "code",
   "execution_count": 47,
   "id": "57094d4a",
   "metadata": {},
   "outputs": [
    {
     "data": {
      "text/plain": [
       "Index(['vendor_id', 'vendor_name', 'vendor_type', 'performance_category',\n",
       "       'specialization', 'price_volatility', 'delivery_reliability',\n",
       "       'country_of_origin', 'average_lead_time_days', 'lead_time_variance',\n",
       "       'fill_rate_percentage', 'quality_rating', 'payment_terms',\n",
       "       'established_year', 'market_share_percent'],\n",
       "      dtype='object')"
      ]
     },
     "execution_count": 47,
     "metadata": {},
     "output_type": "execute_result"
    }
   ],
   "source": [
    "df2.columns"
   ]
  },
  {
   "cell_type": "code",
   "execution_count": 48,
   "id": "3f4507fc",
   "metadata": {},
   "outputs": [
    {
     "data": {
      "text/plain": [
       "vendor_id                  object\n",
       "vendor_name                object\n",
       "vendor_type                object\n",
       "performance_category       object\n",
       "specialization             object\n",
       "price_volatility          float64\n",
       "delivery_reliability      float64\n",
       "country_of_origin          object\n",
       "average_lead_time_days      int64\n",
       "lead_time_variance          int64\n",
       "fill_rate_percentage      float64\n",
       "quality_rating            float64\n",
       "payment_terms               int64\n",
       "established_year            int64\n",
       "market_share_percent      float64\n",
       "dtype: object"
      ]
     },
     "execution_count": 48,
     "metadata": {},
     "output_type": "execute_result"
    }
   ],
   "source": [
    "df2.dtypes"
   ]
  },
  {
   "cell_type": "code",
   "execution_count": 49,
   "id": "faf72b2d",
   "metadata": {},
   "outputs": [
    {
     "name": "stdout",
     "output_type": "stream",
     "text": [
      "18.69811320754717\n",
      "16.0\n",
      "0    13\n",
      "Name: average_lead_time_days, dtype: int64\n"
     ]
    }
   ],
   "source": [
    "#first business moment for average_lead_time_days\n",
    "print(df2.average_lead_time_days.mean())\n",
    "print(df2.average_lead_time_days.median())\n",
    "print(df2.average_lead_time_days.mode())"
   ]
  },
  {
   "cell_type": "code",
   "execution_count": 50,
   "id": "0f0df4f7",
   "metadata": {},
   "outputs": [
    {
     "name": "stdout",
     "output_type": "stream",
     "text": [
      "2.487924528301887\n",
      "1.6\n",
      "0    0.18\n",
      "1    0.68\n",
      "Name: market_share_percent, dtype: float64\n"
     ]
    }
   ],
   "source": [
    "#first business moment for market_share_percent\n",
    "print(df2.market_share_percent.mean())\n",
    "print(df2.market_share_percent.median()) \n",
    "print(df2.market_share_percent.mode())"
   ]
  },
  {
   "cell_type": "code",
   "execution_count": 51,
   "id": "f5820de0",
   "metadata": {},
   "outputs": [
    {
     "name": "stdout",
     "output_type": "stream",
     "text": [
      "84.56226415094338\n",
      "89.2\n",
      "0    70.6\n",
      "1    74.2\n",
      "2    89.7\n",
      "3    91.8\n",
      "4    92.4\n",
      "5    94.1\n",
      "6    94.3\n",
      "7    96.1\n",
      "Name: fill_rate_percentage, dtype: float64\n"
     ]
    }
   ],
   "source": [
    "#first business moment for fill_rate_percentage\n",
    "print(df2.fill_rate_percentage.mean())\n",
    "print(df2.fill_rate_percentage.median())\n",
    "print(df2.fill_rate_percentage.mode())\n"
   ]
  },
  {
   "cell_type": "code",
   "execution_count": 52,
   "id": "91b45bc5",
   "metadata": {},
   "outputs": [
    {
     "name": "stdout",
     "output_type": "stream",
     "text": [
      "80.48403483309146\n",
      "8.971289474378333\n",
      "35\n"
     ]
    }
   ],
   "source": [
    "#second business moment for average_lead_time_days\n",
    "print(df2.average_lead_time_days.var())\n",
    "print(df2.average_lead_time_days.std())\n",
    "print(df2.average_lead_time_days.max()-df2.average_lead_time_days.min())"
   ]
  },
  {
   "cell_type": "code",
   "execution_count": 53,
   "id": "daf21a45",
   "metadata": {},
   "outputs": [
    {
     "name": "stdout",
     "output_type": "stream",
     "text": [
      "9.692159071117564\n",
      "3.113223260724737\n",
      "11.6\n"
     ]
    }
   ],
   "source": [
    "#second business moment for market_share_percent\n",
    "print(df2.market_share_percent.var())   \n",
    "print(df2.market_share_percent.std())\n",
    "print(df2.market_share_percent.max()-df2.market_share_percent.min())"
   ]
  },
  {
   "cell_type": "code",
   "execution_count": 54,
   "id": "c3acf8c9",
   "metadata": {},
   "outputs": [
    {
     "name": "stdout",
     "output_type": "stream",
     "text": [
      "103.99124092888243\n",
      "10.197609569349202\n",
      "37.8\n"
     ]
    }
   ],
   "source": [
    "#second business moment for fill_rate_percentage\n",
    "print(df2.fill_rate_percentage.var())   \n",
    "print(df2.fill_rate_percentage.std())\n",
    "print(df2.fill_rate_percentage.max()-df2.fill_rate_percentage.min())"
   ]
  },
  {
   "cell_type": "code",
   "execution_count": 55,
   "id": "b179fc9d",
   "metadata": {},
   "outputs": [
    {
     "name": "stdout",
     "output_type": "stream",
     "text": [
      "0.9649116598110626\n"
     ]
    }
   ],
   "source": [
    "#third business moment for average_lead_time_days\n",
    "print(df2.average_lead_time_days.skew())"
   ]
  },
  {
   "cell_type": "code",
   "execution_count": 56,
   "id": "a68a6407",
   "metadata": {},
   "outputs": [
    {
     "name": "stdout",
     "output_type": "stream",
     "text": [
      "2.0037451584569417\n"
     ]
    }
   ],
   "source": [
    "#third business moment for market_share_percent\n",
    "print(df2.market_share_percent.skew())  \n"
   ]
  },
  {
   "cell_type": "code",
   "execution_count": 57,
   "id": "e00d73e2",
   "metadata": {},
   "outputs": [
    {
     "name": "stdout",
     "output_type": "stream",
     "text": [
      "-0.5972217546210269\n"
     ]
    }
   ],
   "source": [
    "#third business moment for fill_rate_percentage\n",
    "print(df2.fill_rate_percentage.skew())"
   ]
  },
  {
   "cell_type": "code",
   "execution_count": 58,
   "id": "5f277f00",
   "metadata": {},
   "outputs": [
    {
     "name": "stdout",
     "output_type": "stream",
     "text": [
      "-0.11377132671495316\n"
     ]
    }
   ],
   "source": [
    "#fourth business moment for average_lead_time_days\n",
    "print(df2.average_lead_time_days.kurt())"
   ]
  },
  {
   "cell_type": "code",
   "execution_count": 59,
   "id": "4ce502f3",
   "metadata": {},
   "outputs": [
    {
     "name": "stdout",
     "output_type": "stream",
     "text": [
      "2.9973803435960886\n"
     ]
    }
   ],
   "source": [
    "#fourth business moment for market_share_percent\n",
    "print(df2.market_share_percent.kurt())"
   ]
  },
  {
   "cell_type": "code",
   "execution_count": 60,
   "id": "d9007d88",
   "metadata": {},
   "outputs": [
    {
     "name": "stdout",
     "output_type": "stream",
     "text": [
      "-0.92010973497535\n"
     ]
    }
   ],
   "source": [
    "#fourth business moment for fill_rate_percentage\n",
    "print(df2.fill_rate_percentage.kurt())"
   ]
  },
  {
   "cell_type": "code",
   "execution_count": 61,
   "id": "c939f123",
   "metadata": {},
   "outputs": [
    {
     "data": {
      "text/plain": [
       "{'whiskers': [<matplotlib.lines.Line2D at 0x2365b6c7d70>,\n",
       "  <matplotlib.lines.Line2D at 0x2365a4e1a90>],\n",
       " 'caps': [<matplotlib.lines.Line2D at 0x2365a4e2720>,\n",
       "  <matplotlib.lines.Line2D at 0x2365a4e2240>],\n",
       " 'boxes': [<matplotlib.lines.Line2D at 0x2365b6c7ad0>],\n",
       " 'medians': [<matplotlib.lines.Line2D at 0x2365b724320>],\n",
       " 'fliers': [<matplotlib.lines.Line2D at 0x2365b7245f0>],\n",
       " 'means': []}"
      ]
     },
     "execution_count": 61,
     "metadata": {},
     "output_type": "execute_result"
    },
    {
     "data": {
      "image/png": "[encoded data removed]",
      "text/plain": [
       "<Figure size 640x480 with 1 Axes>"
      ]
     },
     "metadata": {},
     "output_type": "display_data"
    }
   ],
   "source": [
    "#univariate analysis for average_lead_time_days\n",
    "mlp.boxplot(df2.average_lead_time_days)"
   ]
  },
  {
   "cell_type": "code",
   "execution_count": 62,
   "id": "5b06fe0d",
   "metadata": {},
   "outputs": [
    {
     "data": {
      "text/plain": [
       "{'whiskers': [<matplotlib.lines.Line2D at 0x2365b756d80>,\n",
       "  <matplotlib.lines.Line2D at 0x2365b757050>],\n",
       " 'caps': [<matplotlib.lines.Line2D at 0x2365b7572c0>,\n",
       "  <matplotlib.lines.Line2D at 0x2365b757560>],\n",
       " 'boxes': [<matplotlib.lines.Line2D at 0x2365b756b70>],\n",
       " 'medians': [<matplotlib.lines.Line2D at 0x2365b757830>],\n",
       " 'fliers': [<matplotlib.lines.Line2D at 0x2365b757aa0>],\n",
       " 'means': []}"
      ]
     },
     "execution_count": 62,
     "metadata": {},
     "output_type": "execute_result"
    },
    {
     "data": {
      "image/png": "[encoded data removed]",
      "text/plain": [
       "<Figure size 640x480 with 1 Axes>"
      ]
     },
     "metadata": {},
     "output_type": "display_data"
    }
   ],
   "source": [
    "mlp.boxplot(df2.market_share_percent)"
   ]
  },
  {
   "cell_type": "code",
   "execution_count": 63,
   "id": "fc4423d4",
   "metadata": {},
   "outputs": [
    {
     "data": {
      "text/plain": [
       "{'whiskers': [<matplotlib.lines.Line2D at 0x2365b782120>,\n",
       "  <matplotlib.lines.Line2D at 0x2365b780d40>],\n",
       " 'caps': [<matplotlib.lines.Line2D at 0x2365b782600>,\n",
       "  <matplotlib.lines.Line2D at 0x2365b782930>],\n",
       " 'boxes': [<matplotlib.lines.Line2D at 0x2365b781e50>],\n",
       " 'medians': [<matplotlib.lines.Line2D at 0x2365b782c30>],\n",
       " 'fliers': [<matplotlib.lines.Line2D at 0x2365b782f30>],\n",
       " 'means': []}"
      ]
     },
     "execution_count": 63,
     "metadata": {},
     "output_type": "execute_result"
    },
    {
     "data": {
      "image/png": "[encoded data removed]",
      "text/plain": [
       "<Figure size 640x480 with 1 Axes>"
      ]
     },
     "metadata": {},
     "output_type": "display_data"
    }
   ],
   "source": [
    "mlp.boxplot(df2.fill_rate_percentage)"
   ]
  },
  {
   "cell_type": "code",
   "execution_count": 64,
   "id": "fe7b98a1",
   "metadata": {},
   "outputs": [
    {
     "name": "stdout",
     "output_type": "stream",
     "text": [
      "0\n"
     ]
    }
   ],
   "source": [
    "#data preprocessing\n",
    "duplicate = df2.duplicated()\n",
    "print(duplicate.sum())"
   ]
  },
  {
   "cell_type": "code",
   "execution_count": 65,
   "id": "158fc3eb",
   "metadata": {},
   "outputs": [],
   "source": [
    "#outlier treatment\n",
    "iqr = df2.average_lead_time_days.quantile(0.75)-df2.average_lead_time_days.quantile(0.25)\n",
    "upper_limit = df2.average_lead_time_days.quantile(0.75)+ (1.5*iqr)\n",
    "lower_limit = df2.average_lead_time_days.quantile(0.25)-(1.5*iqr)   "
   ]
  },
  {
   "cell_type": "code",
   "execution_count": 66,
   "id": "c5f4852c",
   "metadata": {},
   "outputs": [],
   "source": [
    "iqr = df2.market_share_percent.quantile(0.75)-df2.market_share_percent.quantile(0.25)\n",
    "upper_limit = df2.market_share_percent.quantile(0.75)+ (1.5 * iqr)\n",
    "lower_limit = df2.market_share_percent.quantile(0.25)-(1.5 * iqr)"
   ]
  },
  {
   "cell_type": "code",
   "execution_count": 67,
   "id": "b30fa05a",
   "metadata": {},
   "outputs": [],
   "source": [
    "iqr = df2.fill_rate_percentage.quantile(0.75)-df2.fill_rate_percentage.quantile(0.25)\n",
    "upper_limit = df2.fill_rate_percentage.quantile(0.75)+ (1.5 * iqr)\n",
    "lower_limit = df2.fill_rate_percentage.quantile(0.25)-(1.5 * iqr)"
   ]
  },
  {
   "cell_type": "code",
   "execution_count": 68,
   "id": "abb89d8c",
   "metadata": {},
   "outputs": [
    {
     "name": "stdout",
     "output_type": "stream",
     "text": [
      "Requirement already satisfied: feature_engine in c:\\users\\hp\\documents\\internship project 2\\hospital_analytics\\hospital\\lib\\site-packages (1.9.3)\n",
      "Requirement already satisfied: numpy>=1.18.2 in c:\\users\\hp\\documents\\internship project 2\\hospital_analytics\\hospital\\lib\\site-packages (from feature_engine) (2.3.3)\n",
      "Requirement already satisfied: pandas>=2.2.0 in c:\\users\\hp\\documents\\internship project 2\\hospital_analytics\\hospital\\lib\\site-packages (from feature_engine) (2.3.2)\n",
      "Requirement already satisfied: scikit-learn>=1.4.0 in c:\\users\\hp\\documents\\internship project 2\\hospital_analytics\\hospital\\lib\\site-packages (from feature_engine) (1.7.2)\n",
      "Requirement already satisfied: scipy>=1.4.1 in c:\\users\\hp\\documents\\internship project 2\\hospital_analytics\\hospital\\lib\\site-packages (from feature_engine) (1.16.2)\n",
      "Requirement already satisfied: statsmodels>=0.11.1 in c:\\users\\hp\\documents\\internship project 2\\hospital_analytics\\hospital\\lib\\site-packages (from feature_engine) (0.14.5)\n",
      "Requirement already satisfied: python-dateutil>=2.8.2 in c:\\users\\hp\\documents\\internship project 2\\hospital_analytics\\hospital\\lib\\site-packages (from pandas>=2.2.0->feature_engine) (2.9.0.post0)\n",
      "Requirement already satisfied: pytz>=2020.1 in c:\\users\\hp\\documents\\internship project 2\\hospital_analytics\\hospital\\lib\\site-packages (from pandas>=2.2.0->feature_engine) (2025.2)\n",
      "Requirement already satisfied: tzdata>=2022.7 in c:\\users\\hp\\documents\\internship project 2\\hospital_analytics\\hospital\\lib\\site-packages (from pandas>=2.2.0->feature_engine) (2025.2)\n",
      "Requirement already satisfied: joblib>=1.2.0 in c:\\users\\hp\\documents\\internship project 2\\hospital_analytics\\hospital\\lib\\site-packages (from scikit-learn>=1.4.0->feature_engine) (1.5.2)\n",
      "Requirement already satisfied: threadpoolctl>=3.1.0 in c:\\users\\hp\\documents\\internship project 2\\hospital_analytics\\hospital\\lib\\site-packages (from scikit-learn>=1.4.0->feature_engine) (3.6.0)\n",
      "Requirement already satisfied: patsy>=0.5.6 in c:\\users\\hp\\documents\\internship project 2\\hospital_analytics\\hospital\\lib\\site-packages (from statsmodels>=0.11.1->feature_engine) (1.0.1)\n",
      "Requirement already satisfied: packaging>=21.3 in c:\\users\\hp\\documents\\internship project 2\\hospital_analytics\\hospital\\lib\\site-packages (from statsmodels>=0.11.1->feature_engine) (25.0)\n",
      "Requirement already satisfied: six>=1.5 in c:\\users\\hp\\documents\\internship project 2\\hospital_analytics\\hospital\\lib\\site-packages (from python-dateutil>=2.8.2->pandas>=2.2.0->feature_engine) (1.17.0)\n",
      "Note: you may need to restart the kernel to use updated packages.\n"
     ]
    },
    {
     "name": "stderr",
     "output_type": "stream",
     "text": [
      "\n",
      "[notice] A new release of pip is available: 24.2 -> 25.2\n",
      "[notice] To update, run: python.exe -m pip install --upgrade pip\n"
     ]
    }
   ],
   "source": [
    "#winsorization iqr method\n",
    "%pip install feature_engine\n",
    "\n",
    "from feature_engine.outliers import Winsorizer\n",
    "winsor = Winsorizer(capping_method='iqr', tail='both', fold=1.5, variables=['average_lead_time_days', 'market_share_percent', 'fill_rate_percentage'])\n",
    "df2_treated = winsor.fit_transform(df2[['average_lead_time_days', 'market_share_percent', 'fill_rate_percentage']])"
   ]
  },
  {
   "cell_type": "code",
   "execution_count": 69,
   "id": "355fbd10",
   "metadata": {},
   "outputs": [
    {
     "data": {
      "text/plain": [
       "<Axes: >"
      ]
     },
     "execution_count": 69,
     "metadata": {},
     "output_type": "execute_result"
    },
    {
     "data": {
      "image/png": "[encoded data removed]",
      "text/plain": [
       "<Figure size 640x480 with 1 Axes>"
      ]
     },
     "metadata": {},
     "output_type": "display_data"
    }
   ],
   "source": [
    "sb.boxplot(df2_treated)\n"
   ]
  },
  {
   "cell_type": "code",
   "execution_count": 70,
   "id": "4931f699",
   "metadata": {},
   "outputs": [
    {
     "data": {
      "text/plain": [
       "average_lead_time_days    0\n",
       "market_share_percent      0\n",
       "fill_rate_percentage      0\n",
       "dtype: int64"
      ]
     },
     "execution_count": 70,
     "metadata": {},
     "output_type": "execute_result"
    }
   ],
   "source": [
    "#missing value imputation\n",
    "df2_treated.isnull().sum()  "
   ]
  },
  {
   "cell_type": "code",
   "execution_count": 71,
   "id": "10417eaf",
   "metadata": {},
   "outputs": [
    {
     "name": "stdout",
     "output_type": "stream",
     "text": [
      "18.69811320754717\n",
      "16.0\n",
      "0    13\n",
      "Name: average_lead_time_days, dtype: int64\n"
     ]
    }
   ],
   "source": [
    "#after treatment of outliers\n",
    "#busness moments\n",
    "#first business moment for average_lead_time_days\n",
    "print(df2_treated.average_lead_time_days.mean())    \n",
    "print(df2_treated.average_lead_time_days.median())\n",
    "print(df2_treated.average_lead_time_days.mode())"
   ]
  },
  {
   "cell_type": "code",
   "execution_count": 72,
   "id": "a4fae4b2",
   "metadata": {},
   "outputs": [
    {
     "name": "stdout",
     "output_type": "stream",
     "text": [
      "1.8847169811320756\n",
      "1.6\n",
      "0    5.305\n",
      "Name: market_share_percent, dtype: float64\n"
     ]
    }
   ],
   "source": [
    "#first business moment for market_share_percent\n",
    "print(df2_treated.market_share_percent.mean())\n",
    "print(df2_treated.market_share_percent.median())\n",
    "print(df2_treated.market_share_percent.mode())"
   ]
  },
  {
   "cell_type": "code",
   "execution_count": 73,
   "id": "09aca00a",
   "metadata": {},
   "outputs": [
    {
     "name": "stdout",
     "output_type": "stream",
     "text": [
      "84.56226415094338\n",
      "89.2\n",
      "0    70.6\n",
      "1    74.2\n",
      "2    89.7\n",
      "3    91.8\n",
      "4    92.4\n",
      "5    94.1\n",
      "6    94.3\n",
      "7    96.1\n",
      "Name: fill_rate_percentage, dtype: float64\n"
     ]
    }
   ],
   "source": [
    "#first business moment for fill_rate_percentage\n",
    "print(df2_treated.fill_rate_percentage.mean())\n",
    "print(df2_treated.fill_rate_percentage.median())\n",
    "print(df2_treated.fill_rate_percentage.mode())"
   ]
  },
  {
   "cell_type": "code",
   "execution_count": 74,
   "id": "2b32db41",
   "metadata": {},
   "outputs": [
    {
     "name": "stdout",
     "output_type": "stream",
     "text": [
      "80.48403483309146\n",
      "8.971289474378333\n",
      "35\n"
     ]
    }
   ],
   "source": [
    "#second business moment for average_lead_time_days\n",
    "print(df2_treated.average_lead_time_days.var())\n",
    "print(df2_treated.average_lead_time_days.std())\n",
    "print(df2_treated.average_lead_time_days.max()-df2_treated.average_lead_time_days.min())"
   ]
  },
  {
   "cell_type": "code",
   "execution_count": 75,
   "id": "81cfbda4",
   "metadata": {},
   "outputs": [
    {
     "name": "stdout",
     "output_type": "stream",
     "text": [
      "2.7397369375907106\n",
      "1.655215072910681\n",
      "5.125\n"
     ]
    }
   ],
   "source": [
    "#second business moment for market_share_percent\n",
    "print(df2_treated.market_share_percent.var())\n",
    "print(df2_treated.market_share_percent.std())\n",
    "print(df2_treated.market_share_percent.max()-df2_treated.market_share_percent.min())    "
   ]
  },
  {
   "cell_type": "code",
   "execution_count": 76,
   "id": "a376b08a",
   "metadata": {},
   "outputs": [
    {
     "name": "stdout",
     "output_type": "stream",
     "text": [
      "103.99124092888243\n",
      "10.197609569349202\n",
      "37.8\n"
     ]
    }
   ],
   "source": [
    "#second business moment for fill_rate_percentage\n",
    "print(df2_treated.fill_rate_percentage.var())\n",
    "print(df2_treated.fill_rate_percentage.std())\n",
    "print(df2_treated.fill_rate_percentage.max()-df2_treated.fill_rate_percentage.min())    "
   ]
  },
  {
   "cell_type": "code",
   "execution_count": 77,
   "id": "d929e973",
   "metadata": {},
   "outputs": [
    {
     "name": "stdout",
     "output_type": "stream",
     "text": [
      "0.9649116598110626\n"
     ]
    }
   ],
   "source": [
    "#third business moment for average_lead_time_days\n",
    "print(df2_treated.average_lead_time_days.skew())"
   ]
  },
  {
   "cell_type": "code",
   "execution_count": 78,
   "id": "cc2ec6b3",
   "metadata": {},
   "outputs": [
    {
     "name": "stdout",
     "output_type": "stream",
     "text": [
      "1.1499173882129434\n"
     ]
    }
   ],
   "source": [
    "#third business moment for market_share_percent\n",
    "print(df2_treated.market_share_percent.skew())"
   ]
  },
  {
   "cell_type": "code",
   "execution_count": 79,
   "id": "c55c4f2d",
   "metadata": {},
   "outputs": [
    {
     "name": "stdout",
     "output_type": "stream",
     "text": [
      "-0.5972217546210269\n"
     ]
    }
   ],
   "source": [
    "#third business moment for fill_rate_percentage\n",
    "print(df2_treated.fill_rate_percentage.skew())"
   ]
  },
  {
   "cell_type": "code",
   "execution_count": 80,
   "id": "f60cb0e4",
   "metadata": {},
   "outputs": [
    {
     "name": "stdout",
     "output_type": "stream",
     "text": [
      "-0.11377132671495316\n"
     ]
    }
   ],
   "source": [
    "#fourth business moment for average_lead_time_days\n",
    "print(df2_treated.average_lead_time_days.kurt())"
   ]
  },
  {
   "cell_type": "code",
   "execution_count": 81,
   "id": "0eb75502",
   "metadata": {},
   "outputs": [
    {
     "name": "stdout",
     "output_type": "stream",
     "text": [
      "0.23706990256827565\n"
     ]
    }
   ],
   "source": [
    "#fourth business moment for market_share_percent\n",
    "print(df2_treated.market_share_percent.kurt())"
   ]
  },
  {
   "cell_type": "code",
   "execution_count": 82,
   "id": "a70c845e",
   "metadata": {},
   "outputs": [
    {
     "name": "stdout",
     "output_type": "stream",
     "text": [
      "-0.92010973497535\n"
     ]
    }
   ],
   "source": [
    "#fourth business moment for fill_rate_percentage\n",
    "print(df2_treated.fill_rate_percentage.kurt())"
   ]
  },
  {
   "cell_type": "code",
   "execution_count": 83,
   "id": "bb81242f",
   "metadata": {},
   "outputs": [],
   "source": [
    "os.getcwd()\n",
    "\n",
    "df3 = pd.read_excel(r'c:\\Users\\HP\\Documents\\internship project 2\\data_set\\Enhanced_Inventory.xlsx.xlsx')\n"
   ]
  },
  {
   "cell_type": "code",
   "execution_count": 84,
   "id": "31a90aa8",
   "metadata": {},
   "outputs": [
    {
     "data": {
      "text/plain": [
       "<bound method DataFrame.info of      inventory_id hospital_id    sku_id vendor_id  current_stock  \\\n",
       "0       INV000001        H001  SKU00001      V009          48.82   \n",
       "1       INV000002        H001  SKU00002      V001          58.25   \n",
       "2       INV000003        H001  SKU00003      V003          61.24   \n",
       "3       INV000004        H001  SKU00004      V001          59.67   \n",
       "4       INV000005        H001  SKU00005      V006          74.11   \n",
       "...           ...         ...       ...       ...            ...   \n",
       "1192    INV001193        H001  SKU01193      V002          50.81   \n",
       "1193    INV001194        H001  SKU01194      V004          18.17   \n",
       "1194    INV001195        H001  SKU01195      V002           7.92   \n",
       "1195    INV001196        H001  SKU01196      V004          12.63   \n",
       "1196    INV001197        H001  SKU01197      V020          53.45   \n",
       "\n",
       "      reorder_level  max_stock_level  stock_status  days_of_stock  \\\n",
       "0            187.39           665.54  Critical_Low           11.5   \n",
       "1             53.14           167.99        Normal           11.0   \n",
       "2             45.28           134.11        Normal           27.1   \n",
       "3             51.06           132.29        Normal           31.6   \n",
       "4            223.28           568.25  Critical_Low           14.9   \n",
       "...             ...              ...           ...            ...   \n",
       "1192          37.46           125.38        Normal           38.0   \n",
       "1193          68.27           176.45  Critical_Low            6.9   \n",
       "1194          92.31           364.24  Critical_Low            0.8   \n",
       "1195          24.23            73.41           Low            8.3   \n",
       "1196         245.55           915.28  Critical_Low            5.9   \n",
       "\n",
       "      estimated_daily_consumption         last_order_date  \\\n",
       "0                            4.26 2025-08-29 19:38:42.737   \n",
       "1                            5.31 2025-08-31 19:38:42.740   \n",
       "2                            2.26 2025-08-17 19:38:42.744   \n",
       "3                            1.89 2025-08-11 19:38:42.748   \n",
       "4                            4.96 2025-07-31 19:38:42.752   \n",
       "...                           ...                     ...   \n",
       "1192                         1.34 2025-08-13 19:38:47.025   \n",
       "1193                         2.63 2025-08-26 19:38:47.029   \n",
       "1194                        10.26 2025-08-06 19:38:47.032   \n",
       "1195                         1.51 2025-08-18 19:38:47.035   \n",
       "1196                         9.09 2025-08-09 19:38:47.037   \n",
       "\n",
       "                 expiry_date  days_to_expiry batch_number  stock_value  \\\n",
       "0    2029-01-14 19:38:42.737            1223    B20251929     10884.77   \n",
       "1    2028-11-13 19:38:42.740            1161    B20259133      1563.88   \n",
       "2    2028-11-23 19:38:42.744            1171    B20257732       380.28   \n",
       "3    2027-11-16 19:38:42.748             798    B20256792      3522.45   \n",
       "4    2028-08-25 19:38:42.751            1081    B20255064      5571.20   \n",
       "...                      ...             ...          ...          ...   \n",
       "1192 2028-12-08 19:38:47.025            1186    B20256895      3702.24   \n",
       "1193 2030-04-25 19:38:47.029            1689    B20254694       562.64   \n",
       "1194 2031-10-16 19:38:47.032            2228    B20251375        72.27   \n",
       "1195 2029-07-13 19:38:47.035            1403    B20256074       234.41   \n",
       "1196 2031-11-05 19:38:47.037            2248    B20255950      1050.32   \n",
       "\n",
       "      turnover_rate  \n",
       "0             31.85  \n",
       "1             33.30  \n",
       "2             13.49  \n",
       "3             11.57  \n",
       "4             24.44  \n",
       "...             ...  \n",
       "1192           9.61  \n",
       "1193          52.74  \n",
       "1194         472.44  \n",
       "1195          43.76  \n",
       "1196          62.10  \n",
       "\n",
       "[1197 rows x 16 columns]>"
      ]
     },
     "execution_count": 84,
     "metadata": {},
     "output_type": "execute_result"
    }
   ],
   "source": [
    "df3.info"
   ]
  },
  {
   "cell_type": "code",
   "execution_count": 85,
   "id": "b3c30e92",
   "metadata": {},
   "outputs": [
    {
     "data": {
      "text/plain": [
       "Index(['inventory_id', 'hospital_id', 'sku_id', 'vendor_id', 'current_stock',\n",
       "       'reorder_level', 'max_stock_level', 'stock_status', 'days_of_stock',\n",
       "       'estimated_daily_consumption', 'last_order_date', 'expiry_date',\n",
       "       'days_to_expiry', 'batch_number', 'stock_value', 'turnover_rate'],\n",
       "      dtype='object')"
      ]
     },
     "execution_count": 85,
     "metadata": {},
     "output_type": "execute_result"
    }
   ],
   "source": [
    "df3.columns"
   ]
  },
  {
   "cell_type": "code",
   "execution_count": 86,
   "id": "f16b0a13",
   "metadata": {},
   "outputs": [
    {
     "name": "stdout",
     "output_type": "stream",
     "text": [
      "42.86168755221387\n",
      "43.48\n",
      "0    13.41\n",
      "1    15.17\n",
      "2    35.44\n",
      "3    36.19\n",
      "4    51.34\n",
      "Name: current_stock, dtype: float64\n"
     ]
    }
   ],
   "source": [
    "#first business moment for current_stock\n",
    "print(df3.current_stock.mean())\n",
    "print(df3.current_stock.median())\n",
    "print(df3.current_stock.mode())"
   ]
  },
  {
   "cell_type": "code",
   "execution_count": 87,
   "id": "498a0d6a",
   "metadata": {},
   "outputs": [
    {
     "name": "stdout",
     "output_type": "stream",
     "text": [
      "373.09556390977446\n",
      "268.66\n",
      "0     68.85\n",
      "1     73.41\n",
      "2    131.97\n",
      "3    162.80\n",
      "4    188.71\n",
      "5    262.51\n",
      "Name: max_stock_level, dtype: float64\n"
     ]
    }
   ],
   "source": [
    "#first business moment for max_stock_level\n",
    "print(df3.max_stock_level.mean())\n",
    "print(df3.max_stock_level.median())\n",
    "print(df3.max_stock_level.mode())"
   ]
  },
  {
   "cell_type": "code",
   "execution_count": 88,
   "id": "ab70d751",
   "metadata": {},
   "outputs": [
    {
     "name": "stdout",
     "output_type": "stream",
     "text": [
      "2455.5454135338346\n",
      "1521.29\n",
      "0    1162.05\n",
      "Name: stock_value, dtype: float64\n"
     ]
    }
   ],
   "source": [
    "#first business moment for stock_value\n",
    "print(df3.stock_value.mean())\n",
    "print(df3.stock_value.median())\n",
    "print(df3.stock_value.mode())"
   ]
  },
  {
   "cell_type": "code",
   "execution_count": 89,
   "id": "6c985784",
   "metadata": {},
   "outputs": [
    {
     "name": "stdout",
     "output_type": "stream",
     "text": [
      "63.66258980785296\n",
      "35.76\n",
      "0       5.07\n",
      "1       8.13\n",
      "2       8.77\n",
      "3       9.17\n",
      "4       9.42\n",
      "5       9.53\n",
      "6      11.29\n",
      "7      13.27\n",
      "8      14.59\n",
      "9      14.94\n",
      "10     15.22\n",
      "11     15.55\n",
      "12     15.58\n",
      "13     15.77\n",
      "14     17.20\n",
      "15     17.27\n",
      "16     17.52\n",
      "17     18.28\n",
      "18     18.51\n",
      "19     19.36\n",
      "20     19.49\n",
      "21     19.50\n",
      "22     19.85\n",
      "23     20.03\n",
      "24     20.92\n",
      "25     21.02\n",
      "26     21.21\n",
      "27     21.26\n",
      "28     21.74\n",
      "29     22.62\n",
      "30     22.92\n",
      "31     23.45\n",
      "32     23.75\n",
      "33     23.87\n",
      "34     23.89\n",
      "35     24.45\n",
      "36     24.57\n",
      "37     24.86\n",
      "38     27.56\n",
      "39     28.44\n",
      "40     28.48\n",
      "41     29.65\n",
      "42     30.31\n",
      "43     30.73\n",
      "44     32.63\n",
      "45     33.30\n",
      "46     34.10\n",
      "47     35.76\n",
      "48     41.65\n",
      "49     42.11\n",
      "50     44.70\n",
      "51     45.57\n",
      "52     46.65\n",
      "53     60.24\n",
      "54     67.41\n",
      "55     68.83\n",
      "56     78.42\n",
      "57    102.71\n",
      "Name: turnover_rate, dtype: float64\n"
     ]
    }
   ],
   "source": [
    "#first business moment for turnover_rate\n",
    "print(df3.turnover_rate.mean())\n",
    "print(df3.turnover_rate.median())\n",
    "print(df3.turnover_rate.mode())"
   ]
  },
  {
   "cell_type": "code",
   "execution_count": 90,
   "id": "3dafcbfe",
   "metadata": {},
   "outputs": [
    {
     "name": "stdout",
     "output_type": "stream",
     "text": [
      "486.99695668155897\n",
      "22.068007537645055\n",
      "74.92999999999999\n"
     ]
    }
   ],
   "source": [
    "#second business moment for current_stock\n",
    "print(df3.current_stock.var())\n",
    "print(df3.current_stock.std())\n",
    "print(df3.current_stock.max()-df3.current_stock.min())"
   ]
  },
  {
   "cell_type": "code",
   "execution_count": 91,
   "id": "cb0b4168",
   "metadata": {},
   "outputs": [
    {
     "name": "stdout",
     "output_type": "stream",
     "text": [
      "102471.82445196017\n",
      "320.11220603400955\n",
      "2086.14\n"
     ]
    }
   ],
   "source": [
    "#second business moment for max_stock_level\n",
    "print(df3.max_stock_level.var())\n",
    "print(df3.max_stock_level.std())\n",
    "print(df3.max_stock_level.max()-df3.max_stock_level.min())\n"
   ]
  },
  {
   "cell_type": "code",
   "execution_count": 92,
   "id": "751b3d50",
   "metadata": {},
   "outputs": [
    {
     "name": "stdout",
     "output_type": "stream",
     "text": [
      "8199472.793690235\n",
      "2863.4721569608873\n",
      "21234.12\n"
     ]
    }
   ],
   "source": [
    "#second business moment for stock_value\n",
    "print(df3.stock_value.var())\n",
    "print(df3.stock_value.std())\n",
    "print(df3.stock_value.max()-df3.stock_value.min())"
   ]
  },
  {
   "cell_type": "code",
   "execution_count": 93,
   "id": "efeacb84",
   "metadata": {},
   "outputs": [
    {
     "name": "stdout",
     "output_type": "stream",
     "text": [
      "7256.947287099996\n",
      "85.18771793574469\n",
      "789.78\n"
     ]
    }
   ],
   "source": [
    "#second business moment for turnover_rate\n",
    "print(df3.turnover_rate.var())\n",
    "print(df3.turnover_rate.std())\n",
    "print(df3.turnover_rate.max()-df3.turnover_rate.min())"
   ]
  },
  {
   "cell_type": "code",
   "execution_count": 94,
   "id": "40e6a692",
   "metadata": {},
   "outputs": [
    {
     "name": "stdout",
     "output_type": "stream",
     "text": [
      "-0.03507141809956084\n"
     ]
    }
   ],
   "source": [
    "#third business moment for current_stock\n",
    "print(df3.current_stock.skew())"
   ]
  },
  {
   "cell_type": "code",
   "execution_count": 95,
   "id": "347a68e7",
   "metadata": {},
   "outputs": [
    {
     "name": "stdout",
     "output_type": "stream",
     "text": [
      "1.6335301787322405\n"
     ]
    }
   ],
   "source": [
    "#third business moment for max_stock_level\n",
    "print(df3.max_stock_level.skew())"
   ]
  },
  {
   "cell_type": "code",
   "execution_count": 96,
   "id": "93e09241",
   "metadata": {},
   "outputs": [
    {
     "name": "stdout",
     "output_type": "stream",
     "text": [
      "2.5460716680014914\n"
     ]
    }
   ],
   "source": [
    "#third business moment for stock_value\n",
    "print(df3.stock_value.skew())"
   ]
  },
  {
   "cell_type": "code",
   "execution_count": 97,
   "id": "88816209",
   "metadata": {},
   "outputs": [
    {
     "name": "stdout",
     "output_type": "stream",
     "text": [
      "3.6261064147128677\n"
     ]
    }
   ],
   "source": [
    "#third business moment for turnover_rate\n",
    "print(df3.turnover_rate.skew())"
   ]
  },
  {
   "cell_type": "code",
   "execution_count": 98,
   "id": "afb17a0b",
   "metadata": {},
   "outputs": [
    {
     "name": "stdout",
     "output_type": "stream",
     "text": [
      "-1.2054933232317964\n"
     ]
    }
   ],
   "source": [
    "#fourth business moment for current_stock\n",
    "print(df3.current_stock.kurt())\n"
   ]
  },
  {
   "cell_type": "code",
   "execution_count": 100,
   "id": "97778042",
   "metadata": {},
   "outputs": [
    {
     "name": "stdout",
     "output_type": "stream",
     "text": [
      "3.1074174531129546\n"
     ]
    }
   ],
   "source": [
    "#fourth business moment for max_stock_level\n",
    "print(df3.max_stock_level.kurt())"
   ]
  },
  {
   "cell_type": "code",
   "execution_count": null,
   "id": "fc04b985",
   "metadata": {},
   "outputs": [
    {
     "name": "stdout",
     "output_type": "stream",
     "text": [
      "8.058412506020726\n"
     ]
    }
   ],
   "source": [
    "#fourth business moment for stock_value\n",
    "print(df3.stock_value.kurt())"
   ]
  },
  {
   "cell_type": "code",
   "execution_count": null,
   "id": "302c5843",
   "metadata": {},
   "outputs": [
    {
     "name": "stdout",
     "output_type": "stream",
     "text": [
      "17.071338319885612\n"
     ]
    }
   ],
   "source": [
    "#fourth business moment for turnover_rate\n",
    "print(df3.turnover_rate.kurt())"
   ]
  },
  {
   "cell_type": "code",
   "execution_count": null,
   "id": "b4691b0f",
   "metadata": {},
   "outputs": [
    {
     "data": {
      "text/plain": [
       "{'whiskers': [<matplotlib.lines.Line2D at 0x1b30d135220>,\n",
       "  <matplotlib.lines.Line2D at 0x1b30d1352e0>],\n",
       " 'caps': [<matplotlib.lines.Line2D at 0x1b30d135bb0>,\n",
       "  <matplotlib.lines.Line2D at 0x1b30d134d10>],\n",
       " 'boxes': [<matplotlib.lines.Line2D at 0x1b30d137860>],\n",
       " 'medians': [<matplotlib.lines.Line2D at 0x1b30d137e00>],\n",
       " 'fliers': [<matplotlib.lines.Line2D at 0x1b30d136030>],\n",
       " 'means': []}"
      ]
     },
     "execution_count": 97,
     "metadata": {},
     "output_type": "execute_result"
    },
    {
     "data": {
      "image/png": "[encoded data removed]",
      "text/plain": [
       "<Figure size 640x480 with 1 Axes>"
      ]
     },
     "metadata": {},
     "output_type": "display_data"
    }
   ],
   "source": [
    "#univariate analysis for current_stock\n",
    "mlp.boxplot(df3.current_stock)"
   ]
  },
  {
   "cell_type": "code",
   "execution_count": null,
   "id": "28e46b83",
   "metadata": {},
   "outputs": [
    {
     "data": {
      "text/plain": [
       "{'whiskers': [<matplotlib.lines.Line2D at 0x1b30d228920>,\n",
       "  <matplotlib.lines.Line2D at 0x1b30d228c20>],\n",
       " 'caps': [<matplotlib.lines.Line2D at 0x1b30d228f20>,\n",
       "  <matplotlib.lines.Line2D at 0x1b30d229220>],\n",
       " 'boxes': [<matplotlib.lines.Line2D at 0x1b30d2286b0>],\n",
       " 'medians': [<matplotlib.lines.Line2D at 0x1b30d2294c0>],\n",
       " 'fliers': [<matplotlib.lines.Line2D at 0x1b30d2296d0>],\n",
       " 'means': []}"
      ]
     },
     "execution_count": 98,
     "metadata": {},
     "output_type": "execute_result"
    },
    {
     "data": {
      "image/png": "[encoded data removed]",
      "text/plain": [
       "<Figure size 640x480 with 1 Axes>"
      ]
     },
     "metadata": {},
     "output_type": "display_data"
    }
   ],
   "source": [
    "mlp.boxplot(df3.max_stock_level)"
   ]
  },
  {
   "cell_type": "code",
   "execution_count": null,
   "id": "2a57e825",
   "metadata": {},
   "outputs": [
    {
     "data": {
      "text/plain": [
       "{'whiskers': [<matplotlib.lines.Line2D at 0x1b30d1f2690>,\n",
       "  <matplotlib.lines.Line2D at 0x1b30d1f28d0>],\n",
       " 'caps': [<matplotlib.lines.Line2D at 0x1b30d1f2a80>,\n",
       "  <matplotlib.lines.Line2D at 0x1b30d1f2d80>],\n",
       " 'boxes': [<matplotlib.lines.Line2D at 0x1b30d1f23c0>],\n",
       " 'medians': [<matplotlib.lines.Line2D at 0x1b30d1f3080>],\n",
       " 'fliers': [<matplotlib.lines.Line2D at 0x1b30d1f3350>],\n",
       " 'means': []}"
      ]
     },
     "execution_count": 99,
     "metadata": {},
     "output_type": "execute_result"
    },
    {
     "data": {
      "image/png": "[encoded data removed]",
      "text/plain": [
       "<Figure size 640x480 with 1 Axes>"
      ]
     },
     "metadata": {},
     "output_type": "display_data"
    }
   ],
   "source": [
    "mlp.boxplot(df3.stock_value)"
   ]
  },
  {
   "cell_type": "code",
   "execution_count": null,
   "id": "d4df2a4b",
   "metadata": {},
   "outputs": [
    {
     "data": {
      "text/plain": [
       "{'whiskers': [<matplotlib.lines.Line2D at 0x1b30d2ecad0>,\n",
       "  <matplotlib.lines.Line2D at 0x1b30d2ecda0>],\n",
       " 'caps': [<matplotlib.lines.Line2D at 0x1b30d2ed070>,\n",
       "  <matplotlib.lines.Line2D at 0x1b30d2ed370>],\n",
       " 'boxes': [<matplotlib.lines.Line2D at 0x1b30d2ec830>],\n",
       " 'medians': [<matplotlib.lines.Line2D at 0x1b30d2ed640>],\n",
       " 'fliers': [<matplotlib.lines.Line2D at 0x1b30d2ed940>],\n",
       " 'means': []}"
      ]
     },
     "execution_count": 100,
     "metadata": {},
     "output_type": "execute_result"
    },
    {
     "data": {
      "image/png": "[encoded data removed]",
      "text/plain": [
       "<Figure size 640x480 with 1 Axes>"
      ]
     },
     "metadata": {},
     "output_type": "display_data"
    }
   ],
   "source": [
    "mlp.boxplot(df3.turnover_rate)"
   ]
  },
  {
   "cell_type": "code",
   "execution_count": null,
   "id": "fb5a4b21",
   "metadata": {},
   "outputs": [],
   "source": [
    "#data preprocessing\n",
    "duplicate = df3.duplicated()"
   ]
  },
  {
   "cell_type": "code",
   "execution_count": null,
   "id": "f62653a6",
   "metadata": {},
   "outputs": [],
   "source": [
    "#outlier treatment\n",
    "iqr = df3.current_stock.quantile(0.75)-df3.current_stock.quantile(0.25)\n",
    "upper_limit = df3.current_stock.quantile(0.75)+ (1.5*iqr)\n",
    "lower_limit = df3.current_stock.quantile(0.25)-(1.5*iqr)"
   ]
  },
  {
   "cell_type": "code",
   "execution_count": null,
   "id": "0f813fa5",
   "metadata": {},
   "outputs": [],
   "source": [
    "iqr = df3.max_stock_level.quantile(0.75)-df3.max_stock_level.quantile(0.25)\n",
    "upper_limit = df3.max_stock_level.quantile(0.75)+ (1.5*iqr)         \n",
    "lower_limit = df3.max_stock_level.quantile(0.25)-(1.5*iqr)"
   ]
  },
  {
   "cell_type": "code",
   "execution_count": null,
   "id": "bdfa92bb",
   "metadata": {},
   "outputs": [],
   "source": [
    "iqr = df3.stock_value.quantile(0.75)-df3.stock_value.quantile(0.25)\n",
    "upper_limit = df3.stock_value.quantile(0.75)+ (1.5*iqr)         \n",
    "lower_limit = df3.stock_value.quantile(0.25)-(1.5*iqr)"
   ]
  },
  {
   "cell_type": "code",
   "execution_count": null,
   "id": "ae6929af",
   "metadata": {},
   "outputs": [],
   "source": [
    "iqr = df3.turnover_rate.quantile(0.75)-df3.turnover_rate.quantile(0.25)\n",
    "upper_limit = df3.turnover_rate.quantile(0.75)+ (1.5*iqr)\n",
    "lower_limit = df3.turnover_rate.quantile(0.25)-(1.5*iqr)"
   ]
  },
  {
   "cell_type": "code",
   "execution_count": null,
   "id": "9ba725a0",
   "metadata": {},
   "outputs": [
    {
     "name": "stdout",
     "output_type": "stream",
     "text": [
      "Requirement already satisfied: feature_engine in c:\\users\\hp\\documents\\internship project 2\\hospital_analytics\\hospital\\lib\\site-packages (1.9.3)\n",
      "Requirement already satisfied: numpy>=1.18.2 in c:\\users\\hp\\documents\\internship project 2\\hospital_analytics\\hospital\\lib\\site-packages (from feature_engine) (2.3.3)\n",
      "Requirement already satisfied: pandas>=2.2.0 in c:\\users\\hp\\documents\\internship project 2\\hospital_analytics\\hospital\\lib\\site-packages (from feature_engine) (2.3.2)\n",
      "Requirement already satisfied: scikit-learn>=1.4.0 in c:\\users\\hp\\documents\\internship project 2\\hospital_analytics\\hospital\\lib\\site-packages (from feature_engine) (1.7.2)\n",
      "Requirement already satisfied: scipy>=1.4.1 in c:\\users\\hp\\documents\\internship project 2\\hospital_analytics\\hospital\\lib\\site-packages (from feature_engine) (1.16.2)\n",
      "Requirement already satisfied: statsmodels>=0.11.1 in c:\\users\\hp\\documents\\internship project 2\\hospital_analytics\\hospital\\lib\\site-packages (from feature_engine) (0.14.5)\n",
      "Requirement already satisfied: python-dateutil>=2.8.2 in c:\\users\\hp\\documents\\internship project 2\\hospital_analytics\\hospital\\lib\\site-packages (from pandas>=2.2.0->feature_engine) (2.9.0.post0)\n",
      "Requirement already satisfied: pytz>=2020.1 in c:\\users\\hp\\documents\\internship project 2\\hospital_analytics\\hospital\\lib\\site-packages (from pandas>=2.2.0->feature_engine) (2025.2)\n",
      "Requirement already satisfied: tzdata>=2022.7 in c:\\users\\hp\\documents\\internship project 2\\hospital_analytics\\hospital\\lib\\site-packages (from pandas>=2.2.0->feature_engine) (2025.2)\n",
      "Requirement already satisfied: joblib>=1.2.0 in c:\\users\\hp\\documents\\internship project 2\\hospital_analytics\\hospital\\lib\\site-packages (from scikit-learn>=1.4.0->feature_engine) (1.5.2)\n",
      "Requirement already satisfied: threadpoolctl>=3.1.0 in c:\\users\\hp\\documents\\internship project 2\\hospital_analytics\\hospital\\lib\\site-packages (from scikit-learn>=1.4.0->feature_engine) (3.6.0)\n",
      "Requirement already satisfied: patsy>=0.5.6 in c:\\users\\hp\\documents\\internship project 2\\hospital_analytics\\hospital\\lib\\site-packages (from statsmodels>=0.11.1->feature_engine) (1.0.1)\n",
      "Requirement already satisfied: packaging>=21.3 in c:\\users\\hp\\documents\\internship project 2\\hospital_analytics\\hospital\\lib\\site-packages (from statsmodels>=0.11.1->feature_engine) (25.0)\n",
      "Requirement already satisfied: six>=1.5 in c:\\users\\hp\\documents\\internship project 2\\hospital_analytics\\hospital\\lib\\site-packages (from python-dateutil>=2.8.2->pandas>=2.2.0->feature_engine) (1.17.0)\n",
      "Note: you may need to restart the kernel to use updated packages.\n"
     ]
    },
    {
     "name": "stderr",
     "output_type": "stream",
     "text": [
      "\n",
      "[notice] A new release of pip is available: 24.2 -> 25.2\n",
      "[notice] To update, run: python.exe -m pip install --upgrade pip\n"
     ]
    }
   ],
   "source": [
    "#winsorization iqr method\n",
    "%pip install feature_engine\n",
    "from feature_engine.outliers import Winsorizer\n",
    "winsor = Winsorizer(capping_method='iqr', tail='both', fold=1.5, variables=['current_stock', 'max_stock_level', 'stock_value', 'turnover_rate'])\n",
    "df3_treated = winsor.fit_transform(df3[['current_stock', 'max_stock_level', 'stock_value', 'turnover_rate']])   "
   ]
  },
  {
   "cell_type": "code",
   "execution_count": null,
   "id": "7f5c3647",
   "metadata": {},
   "outputs": [
    {
     "data": {
      "text/plain": [
       "<Axes: >"
      ]
     },
     "execution_count": 107,
     "metadata": {},
     "output_type": "execute_result"
    },
    {
     "data": {
      "image/png": "[encoded data removed]",
      "text/plain": [
       "<Figure size 640x480 with 1 Axes>"
      ]
     },
     "metadata": {},
     "output_type": "display_data"
    }
   ],
   "source": [
    "sb.boxplot(df3_treated)"
   ]
  },
  {
   "cell_type": "code",
   "execution_count": null,
   "id": "af1bb22f",
   "metadata": {},
   "outputs": [
    {
     "data": {
      "text/plain": [
       "current_stock      0\n",
       "max_stock_level    0\n",
       "stock_value        0\n",
       "turnover_rate      0\n",
       "dtype: int64"
      ]
     },
     "execution_count": 108,
     "metadata": {},
     "output_type": "execute_result"
    }
   ],
   "source": [
    "#missing value imputation\n",
    "df3_treated.isnull().sum()\n"
   ]
  },
  {
   "cell_type": "code",
   "execution_count": null,
   "id": "db09c75a",
   "metadata": {},
   "outputs": [
    {
     "name": "stdout",
     "output_type": "stream",
     "text": [
      "42.86168755221387\n",
      "43.48\n",
      "0    13.41\n",
      "1    15.17\n",
      "2    35.44\n",
      "3    36.19\n",
      "4    51.34\n",
      "Name: current_stock, dtype: float64\n"
     ]
    }
   ],
   "source": [
    "#first business moment for current_stock\n",
    "print(df3_treated.current_stock.mean())\n",
    "print(df3_treated.current_stock.median())\n",
    "print(df3_treated.current_stock.mode())"
   ]
  },
  {
   "cell_type": "code",
   "execution_count": null,
   "id": "916f6685",
   "metadata": {},
   "outputs": [
    {
     "name": "stdout",
     "output_type": "stream",
     "text": [
      "360.77604010025055\n",
      "268.66\n",
      "0    1069.64\n",
      "Name: max_stock_level, dtype: float64\n"
     ]
    }
   ],
   "source": [
    "#first business moment for max_stock_level\n",
    "print(df3_treated.max_stock_level.mean())\n",
    "print(df3_treated.max_stock_level.median())\n",
    "print(df3_treated.max_stock_level.mode())"
   ]
  },
  {
   "cell_type": "code",
   "execution_count": null,
   "id": "01f79811",
   "metadata": {},
   "outputs": [
    {
     "name": "stdout",
     "output_type": "stream",
     "text": [
      "2148.617627401838\n",
      "1521.29\n",
      "0    6541.62\n",
      "Name: stock_value, dtype: float64\n"
     ]
    }
   ],
   "source": [
    "#first business moment for stock_value\n",
    "print(df3_treated.stock_value.mean())\n",
    "print(df3_treated.stock_value.median())\n",
    "print(df3_treated.stock_value.mode())"
   ]
  },
  {
   "cell_type": "code",
   "execution_count": null,
   "id": "4a45ea55",
   "metadata": {},
   "outputs": [
    {
     "name": "stdout",
     "output_type": "stream",
     "text": [
      "51.173350041771094\n",
      "35.76\n",
      "0    143.77\n",
      "Name: turnover_rate, dtype: float64\n"
     ]
    }
   ],
   "source": [
    "#first business moment for turnover_rate\n",
    "print(df3_treated.turnover_rate.mean())\n",
    "print(df3_treated.turnover_rate.median())\n",
    "print(df3_treated.turnover_rate.mode())"
   ]
  },
  {
   "cell_type": "code",
   "execution_count": null,
   "id": "aa8fa393",
   "metadata": {},
   "outputs": [
    {
     "name": "stdout",
     "output_type": "stream",
     "text": [
      "486.99695668155897\n",
      "22.068007537645055\n",
      "74.92999999999999\n"
     ]
    }
   ],
   "source": [
    "#second business moment for current_stock\n",
    "print(df3_treated.current_stock.var())\n",
    "print(df3_treated.current_stock.std())\n",
    "print(df3_treated.current_stock.max()-df3_treated.current_stock.min())"
   ]
  },
  {
   "cell_type": "code",
   "execution_count": null,
   "id": "8e695dd6",
   "metadata": {},
   "outputs": [
    {
     "name": "stdout",
     "output_type": "stream",
     "text": [
      "79571.97505587798\n",
      "282.08504933065484\n",
      "1052.6399999999999\n"
     ]
    }
   ],
   "source": [
    "#second business moment for max_stock_level\n",
    "print(df3_treated.max_stock_level.var())\n",
    "print(df3_treated.max_stock_level.std())    \n",
    "print(df3_treated.max_stock_level.max()-df3_treated.max_stock_level.min())"
   ]
  },
  {
   "cell_type": "code",
   "execution_count": null,
   "id": "56fd273b",
   "metadata": {},
   "outputs": [
    {
     "name": "stdout",
     "output_type": "stream",
     "text": [
      "3649508.1737784804\n",
      "1910.3685963128896\n",
      "6522.300000000001\n"
     ]
    }
   ],
   "source": [
    "#second business moment for stock_value\n",
    "print(df3_treated.stock_value.var())\n",
    "print(df3_treated.stock_value.std())\n",
    "print(df3_treated.stock_value.max()-df3_treated.stock_value.min())"
   ]
  },
  {
   "cell_type": "code",
   "execution_count": null,
   "id": "564ccf3c",
   "metadata": {},
   "outputs": [
    {
     "name": "stdout",
     "output_type": "stream",
     "text": [
      "1820.1734717945922\n",
      "42.6634910877508\n",
      "140.51999999999998\n"
     ]
    }
   ],
   "source": [
    "#second business moment for turnover_rate\n",
    "print(df3_treated.turnover_rate.var())\n",
    "print(df3_treated.turnover_rate.std())\n",
    "print(df3_treated.turnover_rate.max()-df3_treated.turnover_rate.min())"
   ]
  },
  {
   "cell_type": "code",
   "execution_count": null,
   "id": "cc5fdcbd",
   "metadata": {},
   "outputs": [
    {
     "name": "stdout",
     "output_type": "stream",
     "text": [
      "-0.03507141809956084\n"
     ]
    }
   ],
   "source": [
    "#third business moment for current_stock\n",
    "print(df3_treated.current_stock.skew())"
   ]
  },
  {
   "cell_type": "code",
   "execution_count": null,
   "id": "cc8b89e7",
   "metadata": {},
   "outputs": [
    {
     "name": "stdout",
     "output_type": "stream",
     "text": [
      "1.048651724177707\n"
     ]
    }
   ],
   "source": [
    "#third business moment for max_stock_level\n",
    "print(df3_treated.max_stock_level.skew())"
   ]
  },
  {
   "cell_type": "code",
   "execution_count": null,
   "id": "60367845",
   "metadata": {},
   "outputs": [
    {
     "name": "stdout",
     "output_type": "stream",
     "text": [
      "1.090183550739401\n"
     ]
    }
   ],
   "source": [
    "#third business moment for stock_value\n",
    "print(df3_treated.stock_value.skew())"
   ]
  },
  {
   "cell_type": "code",
   "execution_count": null,
   "id": "82841d5d",
   "metadata": {},
   "outputs": [
    {
     "name": "stdout",
     "output_type": "stream",
     "text": [
      "1.1125248286149165\n"
     ]
    }
   ],
   "source": [
    "#third business moment for turnover_rate\n",
    "print(df3_treated.turnover_rate.skew())"
   ]
  },
  {
   "cell_type": "code",
   "execution_count": null,
   "id": "dabe720e",
   "metadata": {},
   "outputs": [
    {
     "name": "stdout",
     "output_type": "stream",
     "text": [
      "-1.2054933232317964\n"
     ]
    }
   ],
   "source": [
    "#fourth business moment for current_stock\n",
    "print(df3_treated.current_stock.kurt())"
   ]
  },
  {
   "cell_type": "code",
   "execution_count": null,
   "id": "c41af26f",
   "metadata": {},
   "outputs": [
    {
     "name": "stdout",
     "output_type": "stream",
     "text": [
      "0.2230344643367994\n"
     ]
    }
   ],
   "source": [
    "#fourth business moment for max_stock_level\n",
    "print(df3_treated.max_stock_level.kurt())"
   ]
  },
  {
   "cell_type": "code",
   "execution_count": null,
   "id": "e6c84fd0",
   "metadata": {},
   "outputs": [
    {
     "name": "stdout",
     "output_type": "stream",
     "text": [
      "0.13539562004449612\n"
     ]
    }
   ],
   "source": [
    "#fourth business moment for stock_value\n",
    "print(df3_treated.stock_value.kurt())"
   ]
  },
  {
   "cell_type": "code",
   "execution_count": null,
   "id": "87428767",
   "metadata": {},
   "outputs": [
    {
     "name": "stdout",
     "output_type": "stream",
     "text": [
      "0.03839381181420576\n"
     ]
    }
   ],
   "source": [
    "#fourth business moment for turnover_rate\n",
    "print(df3_treated.turnover_rate.kurt())"
   ]
  },
  {
   "cell_type": "code",
   "execution_count": null,
   "id": "90662219",
   "metadata": {},
   "outputs": [],
   "source": [
    "os.getcwd()\n",
    "\n",
    "df4 = pd.read_excel(r'c:\\Users\\HP\\Documents\\internship project 2\\data_set\\Enhanced_Supply_Chain.xlsx.xlsx',sheet_name= \"Purchase_Orders\")\n"
   ]
  },
  {
   "cell_type": "code",
   "execution_count": null,
   "id": "62ed822a",
   "metadata": {},
   "outputs": [
    {
     "data": {
      "text/plain": [
       "Index(['po_id', 'hospital_id', 'vendor_id', 'sku_id', 'po_date',\n",
       "       'requested_delivery_date', 'ordered_quantity', 'unit_price',\n",
       "       'total_value', 'po_status', 'urgency_level', 'vendor_selection_reason'],\n",
       "      dtype='object')"
      ]
     },
     "execution_count": 138,
     "metadata": {},
     "output_type": "execute_result"
    }
   ],
   "source": [
    "df4.columns"
   ]
  },
  {
   "cell_type": "code",
   "execution_count": null,
   "id": "70d4f66e",
   "metadata": {},
   "outputs": [
    {
     "data": {
      "text/plain": [
       "po_id                              object\n",
       "hospital_id                        object\n",
       "vendor_id                          object\n",
       "sku_id                             object\n",
       "po_date                    datetime64[ns]\n",
       "requested_delivery_date    datetime64[ns]\n",
       "ordered_quantity                  float64\n",
       "unit_price                        float64\n",
       "total_value                       float64\n",
       "po_status                          object\n",
       "urgency_level                      object\n",
       "vendor_selection_reason            object\n",
       "dtype: object"
      ]
     },
     "execution_count": 139,
     "metadata": {},
     "output_type": "execute_result"
    }
   ],
   "source": [
    "df4.dtypes"
   ]
  },
  {
   "cell_type": "code",
   "execution_count": null,
   "id": "767738e5",
   "metadata": {},
   "outputs": [
    {
     "name": "stdout",
     "output_type": "stream",
     "text": [
      "56.53229159961378\n",
      "39.85\n",
      "0    43.09\n",
      "Name: unit_price, dtype: float64\n"
     ]
    }
   ],
   "source": [
    "#first business moment for unit_price\n",
    "print(df4.unit_price.mean())\n",
    "print(df4.unit_price.median())\n",
    "print(df4.unit_price.mode())"
   ]
  },
  {
   "cell_type": "code",
   "execution_count": null,
   "id": "ca958045",
   "metadata": {},
   "outputs": [
    {
     "name": "stdout",
     "output_type": "stream",
     "text": [
      "25424.13986803991\n",
      "10019.885\n",
      "0       160.42\n",
      "1       406.66\n",
      "2       492.74\n",
      "3       518.35\n",
      "4       631.65\n",
      "5       693.16\n",
      "6       720.73\n",
      "7       912.83\n",
      "8      1105.57\n",
      "9      1125.27\n",
      "10     1247.59\n",
      "11     1326.40\n",
      "12     1958.36\n",
      "13     2038.62\n",
      "14     2068.38\n",
      "15     2109.54\n",
      "16     2745.57\n",
      "17     2947.95\n",
      "18     2957.48\n",
      "19     3684.75\n",
      "20     3784.43\n",
      "21     3784.46\n",
      "22     3821.59\n",
      "23     4857.23\n",
      "24     4912.75\n",
      "25     5678.30\n",
      "26     6071.29\n",
      "27     6145.88\n",
      "28     6258.40\n",
      "29    10026.72\n",
      "30    10216.88\n",
      "Name: total_value, dtype: float64\n"
     ]
    }
   ],
   "source": [
    "#first business moment for total_value\n",
    "print(df4.total_value.mean())\n",
    "print(df4.total_value.median()) \n",
    "print(df4.total_value.mode())"
   ]
  },
  {
   "cell_type": "code",
   "execution_count": null,
   "id": "d935e21a",
   "metadata": {},
   "outputs": [
    {
     "name": "stdout",
     "output_type": "stream",
     "text": [
      "2774.3884907166043\n",
      "52.67246425521218\n",
      "291.42999999999995\n"
     ]
    }
   ],
   "source": [
    "#second business moment for unit_price\n",
    "print(df4.unit_price.var()) \n",
    "print(df4.unit_price.std())\n",
    "print(df4.unit_price.max()-df4.unit_price.min())"
   ]
  },
  {
   "cell_type": "code",
   "execution_count": null,
   "id": "685c886f",
   "metadata": {},
   "outputs": [
    {
     "name": "stdout",
     "output_type": "stream",
     "text": [
      "2224586668.144802\n",
      "47165.52414788584\n",
      "978984.01\n"
     ]
    }
   ],
   "source": [
    "#second business moment for total_value\n",
    "print(df4.total_value.var())    \n",
    "print(df4.total_value.std())\n",
    "print(df4.total_value.max()-df4.total_value.min())"
   ]
  },
  {
   "cell_type": "code",
   "execution_count": null,
   "id": "d7c22ee0",
   "metadata": {},
   "outputs": [
    {
     "name": "stdout",
     "output_type": "stream",
     "text": [
      "1.8916606079275262\n"
     ]
    }
   ],
   "source": [
    "#third business moment for unit_price\n",
    "print(df4.unit_price.skew())"
   ]
  },
  {
   "cell_type": "code",
   "execution_count": null,
   "id": "4ad94287",
   "metadata": {},
   "outputs": [
    {
     "name": "stdout",
     "output_type": "stream",
     "text": [
      "5.994053293231806\n"
     ]
    }
   ],
   "source": [
    "#third business moment for total_value\n",
    "print(df4.total_value.skew())"
   ]
  },
  {
   "cell_type": "code",
   "execution_count": null,
   "id": "286fe319",
   "metadata": {},
   "outputs": [
    {
     "name": "stdout",
     "output_type": "stream",
     "text": [
      "3.5090274808410156\n"
     ]
    }
   ],
   "source": [
    "#fourth business moment for unit_price\n",
    "print(df4.unit_price.kurt())"
   ]
  },
  {
   "cell_type": "code",
   "execution_count": null,
   "id": "5f817b92",
   "metadata": {},
   "outputs": [
    {
     "name": "stdout",
     "output_type": "stream",
     "text": [
      "58.38862429418395\n"
     ]
    }
   ],
   "source": [
    "#fourth business moment for total_value\n",
    "print(df4.total_value.kurt())\n"
   ]
  },
  {
   "cell_type": "code",
   "execution_count": null,
   "id": "6799752d",
   "metadata": {},
   "outputs": [
    {
     "data": {
      "text/plain": [
       "{'whiskers': [<matplotlib.lines.Line2D at 0x1b30d144620>,\n",
       "  <matplotlib.lines.Line2D at 0x1b30d1445c0>],\n",
       " 'caps': [<matplotlib.lines.Line2D at 0x1b30d144230>,\n",
       "  <matplotlib.lines.Line2D at 0x1b30d144f20>],\n",
       " 'boxes': [<matplotlib.lines.Line2D at 0x1b30d1471d0>],\n",
       " 'medians': [<matplotlib.lines.Line2D at 0x1b30d146390>],\n",
       " 'fliers': [<matplotlib.lines.Line2D at 0x1b30d146a80>],\n",
       " 'means': []}"
      ]
     },
     "execution_count": 148,
     "metadata": {},
     "output_type": "execute_result"
    },
    {
     "data": {
      "image/png": "[encoded data removed]",
      "text/plain": [
       "<Figure size 640x480 with 1 Axes>"
      ]
     },
     "metadata": {},
     "output_type": "display_data"
    }
   ],
   "source": [
    "#univariate analysis for unit_price\n",
    "mlp.boxplot(df4.unit_price)"
   ]
  },
  {
   "cell_type": "code",
   "execution_count": null,
   "id": "9124e388",
   "metadata": {},
   "outputs": [
    {
     "data": {
      "text/plain": [
       "{'whiskers': [<matplotlib.lines.Line2D at 0x1b30ec32360>,\n",
       "  <matplotlib.lines.Line2D at 0x1b30ec316a0>],\n",
       " 'caps': [<matplotlib.lines.Line2D at 0x1b30ec321b0>,\n",
       "  <matplotlib.lines.Line2D at 0x1b30ec32420>],\n",
       " 'boxes': [<matplotlib.lines.Line2D at 0x1b30ec30830>],\n",
       " 'medians': [<matplotlib.lines.Line2D at 0x1b30ec30080>],\n",
       " 'fliers': [<matplotlib.lines.Line2D at 0x1b30ec32870>],\n",
       " 'means': []}"
      ]
     },
     "execution_count": 149,
     "metadata": {},
     "output_type": "execute_result"
    },
    {
     "data": {
      "image/png": "[encoded data removed]",
      "text/plain": [
       "<Figure size 640x480 with 1 Axes>"
      ]
     },
     "metadata": {},
     "output_type": "display_data"
    }
   ],
   "source": [
    "mlp.boxplot(df4.total_value)"
   ]
  },
  {
   "cell_type": "code",
   "execution_count": null,
   "id": "49b792d6",
   "metadata": {},
   "outputs": [
    {
     "data": {
      "text/plain": [
       "<Axes: xlabel='unit_price', ylabel='total_value'>"
      ]
     },
     "execution_count": 150,
     "metadata": {},
     "output_type": "execute_result"
    },
    {
     "data": {
      "image/png": "[encoded data removed]",
      "text/plain": [
       "<Figure size 640x480 with 1 Axes>"
      ]
     },
     "metadata": {},
     "output_type": "display_data"
    }
   ],
   "source": [
    "#bivariate analysis for unit_price and total_value\n",
    "sb.scatterplot(x=df4.unit_price,y=df4.total_value)"
   ]
  },
  {
   "cell_type": "code",
   "execution_count": null,
   "id": "c8743b60",
   "metadata": {},
   "outputs": [
    {
     "name": "stdout",
     "output_type": "stream",
     "text": [
      "0\n"
     ]
    }
   ],
   "source": [
    "#data preprocessing\n",
    "duplicate = df4.duplicated()\n",
    "print(duplicate.sum())"
   ]
  },
  {
   "cell_type": "code",
   "execution_count": null,
   "id": "afbfc686",
   "metadata": {},
   "outputs": [],
   "source": [
    "#outlier treatment\n",
    "iqr = df4.unit_price.quantile(0.75)-df4.unit_price.quantile(0.25)\n",
    "upper_limit = df4.unit_price.quantile(0.75)+ (1.5*iqr)\n",
    "lower_limit = df4.unit_price.quantile(0.25)-(1.5*iqr)   "
   ]
  },
  {
   "cell_type": "code",
   "execution_count": null,
   "id": "adeb3fed",
   "metadata": {},
   "outputs": [],
   "source": [
    "iqr = df4.total_value.quantile(0.75)-df4.total_value.quantile(0.25)\n",
    "upper_limit = df4.total_value.quantile(0.75)+ (1.5*iqr)\n",
    "lower_limit = df4.total_value.quantile(0.25)-(1.5*iqr)"
   ]
  },
  {
   "cell_type": "code",
   "execution_count": null,
   "id": "e948c0d3",
   "metadata": {},
   "outputs": [
    {
     "name": "stdout",
     "output_type": "stream",
     "text": [
      "Requirement already satisfied: feature_engine in c:\\users\\hp\\documents\\internship project 2\\hospital_analytics\\hospital\\lib\\site-packages (1.9.3)\n",
      "Requirement already satisfied: numpy>=1.18.2 in c:\\users\\hp\\documents\\internship project 2\\hospital_analytics\\hospital\\lib\\site-packages (from feature_engine) (2.3.3)\n",
      "Requirement already satisfied: pandas>=2.2.0 in c:\\users\\hp\\documents\\internship project 2\\hospital_analytics\\hospital\\lib\\site-packages (from feature_engine) (2.3.2)\n",
      "Requirement already satisfied: scikit-learn>=1.4.0 in c:\\users\\hp\\documents\\internship project 2\\hospital_analytics\\hospital\\lib\\site-packages (from feature_engine) (1.7.2)\n",
      "Requirement already satisfied: scipy>=1.4.1 in c:\\users\\hp\\documents\\internship project 2\\hospital_analytics\\hospital\\lib\\site-packages (from feature_engine) (1.16.2)\n",
      "Requirement already satisfied: statsmodels>=0.11.1 in c:\\users\\hp\\documents\\internship project 2\\hospital_analytics\\hospital\\lib\\site-packages (from feature_engine) (0.14.5)\n",
      "Requirement already satisfied: python-dateutil>=2.8.2 in c:\\users\\hp\\documents\\internship project 2\\hospital_analytics\\hospital\\lib\\site-packages (from pandas>=2.2.0->feature_engine) (2.9.0.post0)\n",
      "Requirement already satisfied: pytz>=2020.1 in c:\\users\\hp\\documents\\internship project 2\\hospital_analytics\\hospital\\lib\\site-packages (from pandas>=2.2.0->feature_engine) (2025.2)\n",
      "Requirement already satisfied: tzdata>=2022.7 in c:\\users\\hp\\documents\\internship project 2\\hospital_analytics\\hospital\\lib\\site-packages (from pandas>=2.2.0->feature_engine) (2025.2)\n",
      "Requirement already satisfied: joblib>=1.2.0 in c:\\users\\hp\\documents\\internship project 2\\hospital_analytics\\hospital\\lib\\site-packages (from scikit-learn>=1.4.0->feature_engine) (1.5.2)\n",
      "Requirement already satisfied: threadpoolctl>=3.1.0 in c:\\users\\hp\\documents\\internship project 2\\hospital_analytics\\hospital\\lib\\site-packages (from scikit-learn>=1.4.0->feature_engine) (3.6.0)\n",
      "Requirement already satisfied: patsy>=0.5.6 in c:\\users\\hp\\documents\\internship project 2\\hospital_analytics\\hospital\\lib\\site-packages (from statsmodels>=0.11.1->feature_engine) (1.0.1)\n",
      "Requirement already satisfied: packaging>=21.3 in c:\\users\\hp\\documents\\internship project 2\\hospital_analytics\\hospital\\lib\\site-packages (from statsmodels>=0.11.1->feature_engine) (25.0)\n",
      "Requirement already satisfied: six>=1.5 in c:\\users\\hp\\documents\\internship project 2\\hospital_analytics\\hospital\\lib\\site-packages (from python-dateutil>=2.8.2->pandas>=2.2.0->feature_engine) (1.17.0)\n",
      "Note: you may need to restart the kernel to use updated packages.\n"
     ]
    },
    {
     "name": "stderr",
     "output_type": "stream",
     "text": [
      "\n",
      "[notice] A new release of pip is available: 24.2 -> 25.2\n",
      "[notice] To update, run: python.exe -m pip install --upgrade pip\n"
     ]
    }
   ],
   "source": [
    "#winsorization Iqr method\n",
    "%pip install feature_engine\n",
    "from feature_engine.outliers import Winsorizer\n",
    "winsor = Winsorizer(capping_method='iqr', tail='both', fold=1.5, variables=['unit_price', 'total_value'])\n",
    "df4_treated = winsor.fit_transform(df4[['unit_price', 'total_value']])"
   ]
  },
  {
   "cell_type": "code",
   "execution_count": null,
   "id": "eaa697d5",
   "metadata": {},
   "outputs": [
    {
     "data": {
      "text/plain": [
       "<Axes: >"
      ]
     },
     "execution_count": 155,
     "metadata": {},
     "output_type": "execute_result"
    },
    {
     "data": {
      "image/png": "[encoded data removed]",
      "text/plain": [
       "<Figure size 640x480 with 1 Axes>"
      ]
     },
     "metadata": {},
     "output_type": "display_data"
    }
   ],
   "source": [
    "sb.boxplot(df4_treated)"
   ]
  },
  {
   "cell_type": "code",
   "execution_count": null,
   "id": "1f93438e",
   "metadata": {},
   "outputs": [
    {
     "data": {
      "text/plain": [
       "unit_price     0\n",
       "total_value    0\n",
       "dtype: int64"
      ]
     },
     "execution_count": 159,
     "metadata": {},
     "output_type": "execute_result"
    }
   ],
   "source": [
    "#missing value imputation\n",
    "df4_treated.isnull().sum()"
   ]
  },
  {
   "cell_type": "code",
   "execution_count": null,
   "id": "59af45c7",
   "metadata": {},
   "outputs": [
    {
     "name": "stdout",
     "output_type": "stream",
     "text": [
      "51.99530334728033\n",
      "39.85\n",
      "0    142.57\n",
      "Name: unit_price, dtype: float64\n"
     ]
    }
   ],
   "source": [
    "#after treatment of outliers\n",
    "#first business moment for unit_price\n",
    "print(df4_treated.unit_price.mean())    \n",
    "print(df4_treated.unit_price.median())\n",
    "print(df4_treated.unit_price.mode())"
   ]
  },
  {
   "cell_type": "code",
   "execution_count": null,
   "id": "d2a43f8d",
   "metadata": {},
   "outputs": [
    {
     "name": "stdout",
     "output_type": "stream",
     "text": [
      "18910.05717372063\n",
      "10019.885\n",
      "0    63265.0375\n",
      "Name: total_value, dtype: float64\n"
     ]
    }
   ],
   "source": [
    "#first business moment for total_value\n",
    "print(df4_treated.total_value.mean())\n",
    "print(df4_treated.total_value.median())\n",
    "print(df4_treated.total_value.mode())\n"
   ]
  },
  {
   "cell_type": "code",
   "execution_count": null,
   "id": "c1fc86db",
   "metadata": {},
   "outputs": [
    {
     "name": "stdout",
     "output_type": "stream",
     "text": [
      "1613.124801171351\n",
      "40.163724941436286\n",
      "140.47\n"
     ]
    }
   ],
   "source": [
    "#second business moment for unit_price\n",
    "print(df4_treated.unit_price.var())\n",
    "print(df4_treated.unit_price.std())\n",
    "print(df4_treated.unit_price.max()-df4_treated.unit_price.min())"
   ]
  },
  {
   "cell_type": "code",
   "execution_count": null,
   "id": "bb631781",
   "metadata": {},
   "outputs": [
    {
     "name": "stdout",
     "output_type": "stream",
     "text": [
      "408942654.33466434\n",
      "20222.330586128403\n",
      "63226.317500000005\n"
     ]
    }
   ],
   "source": [
    "#second business moment for total_value\n",
    "print(df4_treated.total_value.var())\n",
    "print(df4_treated.total_value.std())\n",
    "print(df4_treated.total_value.max()-df4_treated.total_value.min())"
   ]
  },
  {
   "cell_type": "code",
   "execution_count": null,
   "id": "5c00ed69",
   "metadata": {},
   "outputs": [
    {
     "name": "stdout",
     "output_type": "stream",
     "text": [
      "1.0881298888008628\n"
     ]
    }
   ],
   "source": [
    "#third business moment for unit_price\n",
    "print(df4_treated.unit_price.skew())"
   ]
  },
  {
   "cell_type": "code",
   "execution_count": null,
   "id": "e795ceaa",
   "metadata": {},
   "outputs": [
    {
     "name": "stdout",
     "output_type": "stream",
     "text": [
      "1.1727535898742\n"
     ]
    }
   ],
   "source": [
    "#third business moment for total_value\n",
    "print(df4_treated.total_value.skew())"
   ]
  },
  {
   "cell_type": "code",
   "execution_count": null,
   "id": "6f3e57a3",
   "metadata": {},
   "outputs": [
    {
     "name": "stdout",
     "output_type": "stream",
     "text": [
      "0.1492574957531212\n"
     ]
    }
   ],
   "source": [
    "#fourth business moment for unit_price\n",
    "print(df4_treated.unit_price.kurt())"
   ]
  },
  {
   "cell_type": "code",
   "execution_count": null,
   "id": "52de3acc",
   "metadata": {},
   "outputs": [
    {
     "name": "stdout",
     "output_type": "stream",
     "text": [
      "0.037405255362253254\n"
     ]
    }
   ],
   "source": [
    "#fourth business moment for total_value\n",
    "print(df4_treated.total_value.kurt())"
   ]
  },
  {
   "cell_type": "code",
   "execution_count": null,
   "id": "991e3755",
   "metadata": {},
   "outputs": [],
   "source": [
    "os.getcwd()\n",
    "\n",
    "df4_1 = pd.read_excel(r'c:\\Users\\HP\\Documents\\internship project 2\\data_set\\Enhanced_Supply_Chain.xlsx.xlsx',sheet_name= \"Deliveries\")\n"
   ]
  },
  {
   "cell_type": "code",
   "execution_count": null,
   "id": "7a3299fc",
   "metadata": {},
   "outputs": [
    {
     "data": {
      "text/plain": [
       "Index(['delivery_id', 'po_id', 'hospital_id', 'vendor_id', 'sku_id',\n",
       "       'delivery_date', 'delivered_quantity', 'accepted_quantity',\n",
       "       'rejected_quantity', 'rejection_reason', 'actual_unit_price',\n",
       "       'price_variance_pct', 'batch_number', 'expiry_date', 'delivery_status',\n",
       "       'days_late', 'quality_rating', 'expected_waste_qty', 'waste_value',\n",
       "       'market_condition', 'delivery_notes'],\n",
       "      dtype='object')"
      ]
     },
     "execution_count": 172,
     "metadata": {},
     "output_type": "execute_result"
    }
   ],
   "source": [
    "df4_1.columns"
   ]
  },
  {
   "cell_type": "code",
   "execution_count": null,
   "id": "d38f4e70",
   "metadata": {},
   "outputs": [
    {
     "name": "stdout",
     "output_type": "stream",
     "text": [
      "69.23820405535886\n",
      "45.87\n",
      "0     7.34\n",
      "1    31.52\n",
      "2    42.78\n",
      "3    60.76\n",
      "Name: actual_unit_price, dtype: float64\n"
     ]
    }
   ],
   "source": [
    "#first business moment for actual_unit_price\n",
    "print(df4_1.actual_unit_price.mean())\n",
    "print(df4_1.actual_unit_price.median())\n",
    "print(df4_1.actual_unit_price.mode())"
   ]
  },
  {
   "cell_type": "code",
   "execution_count": null,
   "id": "984eac53",
   "metadata": {},
   "outputs": [
    {
     "name": "stdout",
     "output_type": "stream",
     "text": [
      "2027.9073913743161\n",
      "581.025\n",
      "0       3.44\n",
      "1       5.49\n",
      "2      20.33\n",
      "3      26.97\n",
      "4      37.17\n",
      "5      40.85\n",
      "6      68.82\n",
      "7      72.38\n",
      "8      80.46\n",
      "9      87.13\n",
      "10     96.55\n",
      "11    110.64\n",
      "12    156.14\n",
      "13    220.70\n",
      "14    239.06\n",
      "15    272.12\n",
      "16    276.03\n",
      "17    278.69\n",
      "18    327.17\n",
      "Name: waste_value, dtype: float64\n"
     ]
    }
   ],
   "source": [
    "#first business moment for waste_value\n",
    "print(df4_1.waste_value.mean())\n",
    "print(df4_1.waste_value.median())\n",
    "print(df4_1.waste_value.mode())"
   ]
  },
  {
   "cell_type": "code",
   "execution_count": null,
   "id": "51f038d9",
   "metadata": {},
   "outputs": [
    {
     "name": "stdout",
     "output_type": "stream",
     "text": [
      "4974.270170573309\n",
      "70.52850608493922\n",
      "629.84\n"
     ]
    }
   ],
   "source": [
    "#second business moment for actual_unit_price\n",
    "print(df4_1.actual_unit_price.var())\n",
    "print(df4_1.actual_unit_price.std())\n",
    "print(df4_1.actual_unit_price.max()-df4_1.actual_unit_price.min())"
   ]
  },
  {
   "cell_type": "code",
   "execution_count": null,
   "id": "a145ce5e",
   "metadata": {},
   "outputs": [
    {
     "name": "stdout",
     "output_type": "stream",
     "text": [
      "26909564.923175864\n",
      "5187.443004330347\n",
      "179577.28\n"
     ]
    }
   ],
   "source": [
    "#second business moment for waste_value\n",
    "print(df4_1.waste_value.var())\n",
    "print(df4_1.waste_value.std())\n",
    "print(df4_1.waste_value.max()-df4_1.waste_value.min())"
   ]
  },
  {
   "cell_type": "code",
   "execution_count": null,
   "id": "5b2c187d",
   "metadata": {},
   "outputs": [
    {
     "name": "stdout",
     "output_type": "stream",
     "text": [
      "2.26092310955749\n"
     ]
    }
   ],
   "source": [
    "#third business moment for actual_unit_price\n",
    "print(df4_1.actual_unit_price.skew())"
   ]
  },
  {
   "cell_type": "code",
   "execution_count": null,
   "id": "d52646f5",
   "metadata": {},
   "outputs": [
    {
     "name": "stdout",
     "output_type": "stream",
     "text": [
      "9.6535580480761\n"
     ]
    }
   ],
   "source": [
    "#third business moment for waste_value\n",
    "print(df4_1.waste_value.skew())"
   ]
  },
  {
   "cell_type": "code",
   "execution_count": null,
   "id": "ff7677ad",
   "metadata": {},
   "outputs": [
    {
     "name": "stdout",
     "output_type": "stream",
     "text": [
      "6.124130174484047\n"
     ]
    }
   ],
   "source": [
    "#fourth business moment for actual_unit_price\n",
    "print(df4_1.actual_unit_price.kurt())"
   ]
  },
  {
   "cell_type": "code",
   "execution_count": null,
   "id": "11d430f0",
   "metadata": {},
   "outputs": [
    {
     "name": "stdout",
     "output_type": "stream",
     "text": [
      "178.20909542891343\n"
     ]
    }
   ],
   "source": [
    "#fourth business moment for waste_value\n",
    "print(df4_1.waste_value.kurt())"
   ]
  },
  {
   "cell_type": "code",
   "execution_count": null,
   "id": "89278d2c",
   "metadata": {},
   "outputs": [
    {
     "data": {
      "text/plain": [
       "{'whiskers': [<matplotlib.lines.Line2D at 0x1b311470830>,\n",
       "  <matplotlib.lines.Line2D at 0x1b311673fe0>],\n",
       " 'caps': [<matplotlib.lines.Line2D at 0x1b311670500>,\n",
       "  <matplotlib.lines.Line2D at 0x1b311671f10>],\n",
       " 'boxes': [<matplotlib.lines.Line2D at 0x1b30f1228d0>],\n",
       " 'medians': [<matplotlib.lines.Line2D at 0x1b311671b20>],\n",
       " 'fliers': [<matplotlib.lines.Line2D at 0x1b311673350>],\n",
       " 'means': []}"
      ]
     },
     "execution_count": 187,
     "metadata": {},
     "output_type": "execute_result"
    },
    {
     "data": {
      "image/png": "[encoded data removed]",
      "text/plain": [
       "<Figure size 640x480 with 1 Axes>"
      ]
     },
     "metadata": {},
     "output_type": "display_data"
    }
   ],
   "source": [
    "#univariate analysis for actual_unit_price\n",
    "mlp.boxplot(df4_1.actual_unit_price)"
   ]
  },
  {
   "cell_type": "code",
   "execution_count": null,
   "id": "93558cd3",
   "metadata": {},
   "outputs": [
    {
     "data": {
      "text/plain": [
       "{'whiskers': [<matplotlib.lines.Line2D at 0x1b30becdf40>,\n",
       "  <matplotlib.lines.Line2D at 0x1b30d6a9820>],\n",
       " 'caps': [<matplotlib.lines.Line2D at 0x1b30d6aa060>,\n",
       "  <matplotlib.lines.Line2D at 0x1b30d6a99d0>],\n",
       " 'boxes': [<matplotlib.lines.Line2D at 0x1b30becd220>],\n",
       " 'medians': [<matplotlib.lines.Line2D at 0x1b30d68e1e0>],\n",
       " 'fliers': [<matplotlib.lines.Line2D at 0x1b30d68cb30>],\n",
       " 'means': []}"
      ]
     },
     "execution_count": 188,
     "metadata": {},
     "output_type": "execute_result"
    },
    {
     "data": {
      "image/png": "[encoded data removed]",
      "text/plain": [
       "<Figure size 640x480 with 1 Axes>"
      ]
     },
     "metadata": {},
     "output_type": "display_data"
    }
   ],
   "source": [
    "mlp.boxplot(df4_1.waste_value)"
   ]
  },
  {
   "cell_type": "code",
   "execution_count": null,
   "id": "98a6f326",
   "metadata": {},
   "outputs": [
    {
     "name": "stdout",
     "output_type": "stream",
     "text": [
      "0\n"
     ]
    }
   ],
   "source": [
    "#data processing\n",
    "duplicate = df4_1.duplicated()\n",
    "print(duplicate.sum())\n"
   ]
  },
  {
   "cell_type": "code",
   "execution_count": null,
   "id": "0a136f1a",
   "metadata": {},
   "outputs": [],
   "source": [
    "#outlier treatment\n",
    "iqr = df4_1.actual_unit_price.quantile(0.75)-df4_1.actual_unit_price.quantile(0.25)\n",
    "upper_limit = df4_1.actual_unit_price.quantile(0.75)+ (1.5* iqr)\n",
    "lower_limit = df4_1.actual_unit_price.quantile(0.25)-(1.5* iqr)"
   ]
  },
  {
   "cell_type": "code",
   "execution_count": null,
   "id": "cd2ffde6",
   "metadata": {},
   "outputs": [],
   "source": [
    "iqr = df4_1.waste_value.quantile(0.75)-df4_1.waste_value.quantile(0.25)\n",
    "upper_limit = df4_1.waste_value.quantile(0.75)+ (1.5* iqr)\n",
    "lower_limit = df4_1.waste_value.quantile(0.25)-(1.5* iqr)"
   ]
  },
  {
   "cell_type": "code",
   "execution_count": null,
   "id": "7eeac23f",
   "metadata": {},
   "outputs": [
    {
     "name": "stdout",
     "output_type": "stream",
     "text": [
      "Requirement already satisfied: feature_engine in c:\\users\\hp\\documents\\internship project 2\\hospital_analytics\\hospital\\lib\\site-packages (1.9.3)\n",
      "Requirement already satisfied: numpy>=1.18.2 in c:\\users\\hp\\documents\\internship project 2\\hospital_analytics\\hospital\\lib\\site-packages (from feature_engine) (2.3.3)\n",
      "Requirement already satisfied: pandas>=2.2.0 in c:\\users\\hp\\documents\\internship project 2\\hospital_analytics\\hospital\\lib\\site-packages (from feature_engine) (2.3.2)\n",
      "Requirement already satisfied: scikit-learn>=1.4.0 in c:\\users\\hp\\documents\\internship project 2\\hospital_analytics\\hospital\\lib\\site-packages (from feature_engine) (1.7.2)\n",
      "Requirement already satisfied: scipy>=1.4.1 in c:\\users\\hp\\documents\\internship project 2\\hospital_analytics\\hospital\\lib\\site-packages (from feature_engine) (1.16.2)\n",
      "Requirement already satisfied: statsmodels>=0.11.1 in c:\\users\\hp\\documents\\internship project 2\\hospital_analytics\\hospital\\lib\\site-packages (from feature_engine) (0.14.5)\n",
      "Requirement already satisfied: python-dateutil>=2.8.2 in c:\\users\\hp\\documents\\internship project 2\\hospital_analytics\\hospital\\lib\\site-packages (from pandas>=2.2.0->feature_engine) (2.9.0.post0)\n",
      "Requirement already satisfied: pytz>=2020.1 in c:\\users\\hp\\documents\\internship project 2\\hospital_analytics\\hospital\\lib\\site-packages (from pandas>=2.2.0->feature_engine) (2025.2)\n",
      "Requirement already satisfied: tzdata>=2022.7 in c:\\users\\hp\\documents\\internship project 2\\hospital_analytics\\hospital\\lib\\site-packages (from pandas>=2.2.0->feature_engine) (2025.2)\n",
      "Requirement already satisfied: joblib>=1.2.0 in c:\\users\\hp\\documents\\internship project 2\\hospital_analytics\\hospital\\lib\\site-packages (from scikit-learn>=1.4.0->feature_engine) (1.5.2)\n",
      "Requirement already satisfied: threadpoolctl>=3.1.0 in c:\\users\\hp\\documents\\internship project 2\\hospital_analytics\\hospital\\lib\\site-packages (from scikit-learn>=1.4.0->feature_engine) (3.6.0)\n",
      "Requirement already satisfied: patsy>=0.5.6 in c:\\users\\hp\\documents\\internship project 2\\hospital_analytics\\hospital\\lib\\site-packages (from statsmodels>=0.11.1->feature_engine) (1.0.1)\n",
      "Requirement already satisfied: packaging>=21.3 in c:\\users\\hp\\documents\\internship project 2\\hospital_analytics\\hospital\\lib\\site-packages (from statsmodels>=0.11.1->feature_engine) (25.0)\n",
      "Requirement already satisfied: six>=1.5 in c:\\users\\hp\\documents\\internship project 2\\hospital_analytics\\hospital\\lib\\site-packages (from python-dateutil>=2.8.2->pandas>=2.2.0->feature_engine) (1.17.0)\n",
      "Note: you may need to restart the kernel to use updated packages.\n"
     ]
    },
    {
     "name": "stderr",
     "output_type": "stream",
     "text": [
      "\n",
      "[notice] A new release of pip is available: 24.2 -> 25.2\n",
      "[notice] To update, run: python.exe -m pip install --upgrade pip\n"
     ]
    }
   ],
   "source": [
    "#winsorization Iqr method\n",
    "%pip install feature_engine \n",
    "from feature_engine.outliers import Winsorizer\n",
    "winsor = Winsorizer(capping_method='iqr', tail='both', fold=1.5, variables=['actual_unit_price', 'waste_value'])\n",
    "df4_1_treated = winsor.fit_transform(df4_1[['actual_unit_price', 'waste_value']])   "
   ]
  },
  {
   "cell_type": "code",
   "execution_count": null,
   "id": "b3a3bb62",
   "metadata": {},
   "outputs": [
    {
     "data": {
      "text/plain": [
       "<Axes: >"
      ]
     },
     "execution_count": 190,
     "metadata": {},
     "output_type": "execute_result"
    },
    {
     "data": {
      "image/png": "[encoded data removed]",
      "text/plain": [
       "<Figure size 640x480 with 1 Axes>"
      ]
     },
     "metadata": {},
     "output_type": "display_data"
    }
   ],
   "source": [
    "sb.boxplot(df4_1_treated)"
   ]
  },
  {
   "cell_type": "code",
   "execution_count": null,
   "id": "2820688e",
   "metadata": {},
   "outputs": [
    {
     "data": {
      "text/plain": [
       "actual_unit_price    0\n",
       "waste_value          0\n",
       "dtype: int64"
      ]
     },
     "execution_count": 191,
     "metadata": {},
     "output_type": "execute_result"
    }
   ],
   "source": [
    "#missing value imputation\n",
    "df4_1_treated.isnull().sum()"
   ]
  },
  {
   "cell_type": "code",
   "execution_count": null,
   "id": "c67552ca",
   "metadata": {},
   "outputs": [
    {
     "name": "stdout",
     "output_type": "stream",
     "text": [
      "62.000046467653675\n",
      "45.87\n",
      "0    171.0625\n",
      "Name: actual_unit_price, dtype: float64\n"
     ]
    }
   ],
   "source": [
    "#after treatment of outliers\n",
    "#first business moment for actual_unit_price\n",
    "print(df4_1_treated.actual_unit_price.mean())    \n",
    "print(df4_1_treated.actual_unit_price.median()) \n",
    "print(df4_1_treated.actual_unit_price.mode())"
   ]
  },
  {
   "cell_type": "code",
   "execution_count": null,
   "id": "bc3b0f00",
   "metadata": {},
   "outputs": [
    {
     "name": "stdout",
     "output_type": "stream",
     "text": [
      "1230.37018506598\n",
      "581.025\n",
      "0    4290.38\n",
      "Name: waste_value, dtype: float64\n"
     ]
    }
   ],
   "source": [
    "#first business moment for waste_value\n",
    "print(df4_1_treated.waste_value.mean()) \n",
    "print(df4_1_treated.waste_value.median())\n",
    "print(df4_1_treated.waste_value.mode())"
   ]
  },
  {
   "cell_type": "code",
   "execution_count": null,
   "id": "6c6dbed8",
   "metadata": {},
   "outputs": [
    {
     "name": "stdout",
     "output_type": "stream",
     "text": [
      "2441.4471924412096\n",
      "49.41100274676896\n",
      "169.40249999999997\n"
     ]
    }
   ],
   "source": [
    "#second business moment for actual_unit_price\n",
    "print(df4_1_treated.actual_unit_price.var())\n",
    "print(df4_1_treated.actual_unit_price.std())\n",
    "print(df4_1_treated.actual_unit_price.max()-df4_1_treated.actual_unit_price.min())"
   ]
  },
  {
   "cell_type": "code",
   "execution_count": null,
   "id": "72ef1383",
   "metadata": {},
   "outputs": [
    {
     "name": "stdout",
     "output_type": "stream",
     "text": [
      "2002948.2371129931\n",
      "1415.2555377432702\n",
      "4290.349999999999\n"
     ]
    }
   ],
   "source": [
    "#second business moment for waste_value\n",
    "print(df4_1_treated.waste_value.var())\n",
    "print(df4_1_treated.waste_value.std())\n",
    "print(df4_1_treated.waste_value.max()-df4_1_treated.waste_value.min())"
   ]
  },
  {
   "cell_type": "code",
   "execution_count": null,
   "id": "041df082",
   "metadata": {},
   "outputs": [
    {
     "name": "stdout",
     "output_type": "stream",
     "text": [
      "1.058906290733713\n"
     ]
    }
   ],
   "source": [
    "#third business moment for actual_unit_price\n",
    "print(df4_1_treated.actual_unit_price.skew())"
   ]
  },
  {
   "cell_type": "code",
   "execution_count": null,
   "id": "6def2570",
   "metadata": {},
   "outputs": [
    {
     "name": "stdout",
     "output_type": "stream",
     "text": [
      "1.2006003120619333\n"
     ]
    }
   ],
   "source": [
    "#third business moment for waste_value\n",
    "print(df4_1_treated.waste_value.skew())"
   ]
  },
  {
   "cell_type": "code",
   "execution_count": null,
   "id": "469a6c99",
   "metadata": {},
   "outputs": [
    {
     "name": "stdout",
     "output_type": "stream",
     "text": [
      "0.01267994227893432\n"
     ]
    }
   ],
   "source": [
    "#fourth business moment for actual_unit_price\n",
    "print(df4_1_treated.actual_unit_price.kurt())"
   ]
  },
  {
   "cell_type": "code",
   "execution_count": null,
   "id": "1aae8b4d",
   "metadata": {},
   "outputs": [
    {
     "name": "stdout",
     "output_type": "stream",
     "text": [
      "0.03277229588764374\n"
     ]
    }
   ],
   "source": [
    "#fourth business moment for waste_value\n",
    "print(df4_1_treated.waste_value.kurt())"
   ]
  },
  {
   "cell_type": "code",
   "execution_count": null,
   "id": "b3921637",
   "metadata": {},
   "outputs": [],
   "source": [
    "os.getcwd()\n",
    "\n",
    "df5 = pd.read_excel(r'c:\\Users\\HP\\Documents\\internship project 2\\data_set\\Enhanced_Transactions.xlsx.xlsx')\n"
   ]
  },
  {
   "cell_type": "code",
   "execution_count": null,
   "id": "fa008492",
   "metadata": {},
   "outputs": [
    {
     "data": {
      "text/plain": [
       "Index(['transaction_id', 'hospital_id', 'dept_id', 'physician_id',\n",
       "       'patient_id', 'sku_id', 'transaction_date', 'transaction_time',\n",
       "       'quantity_consumed', 'unit_cost', 'total_cost', 'transaction_type',\n",
       "       'formulary_adherent', 'adherence_impact_pct', 'bounced',\n",
       "       'bounce_reason', 'revenue_lost', 'patient_complexity_score',\n",
       "       'seasonal_factor', 'urgency_level'],\n",
       "      dtype='object')"
      ]
     },
     "execution_count": 201,
     "metadata": {},
     "output_type": "execute_result"
    }
   ],
   "source": [
    "df5.columns"
   ]
  },
  {
   "cell_type": "code",
   "execution_count": null,
   "id": "b8e94034",
   "metadata": {},
   "outputs": [
    {
     "name": "stdout",
     "output_type": "stream",
     "text": [
      "4.259331411464685\n",
      "3.26\n",
      "0    10.0\n",
      "Name: quantity_consumed, dtype: float64\n"
     ]
    }
   ],
   "source": [
    "#first business moment for quantity_consumed\n",
    "print(df5.quantity_consumed.mean())\n",
    "print(df5.quantity_consumed.median())\n",
    "print(df5.quantity_consumed.mode())"
   ]
  },
  {
   "cell_type": "code",
   "execution_count": null,
   "id": "55da5ba4",
   "metadata": {},
   "outputs": [
    {
     "name": "stdout",
     "output_type": "stream",
     "text": [
      "64.93210165273126\n",
      "42.2080673465683\n",
      "0    43.09\n",
      "Name: unit_cost, dtype: float64\n"
     ]
    }
   ],
   "source": [
    "#first business moment for unit_cost\n",
    "print(df5.unit_cost.mean())\n",
    "print(df5.unit_cost.median())   \n",
    "print(df5.unit_cost.mode())"
   ]
  },
  {
   "cell_type": "code",
   "execution_count": null,
   "id": "77a92b15",
   "metadata": {},
   "outputs": [
    {
     "name": "stdout",
     "output_type": "stream",
     "text": [
      "254.15564465908946\n",
      "138.38\n",
      "0    16.2\n",
      "Name: total_cost, dtype: float64\n"
     ]
    }
   ],
   "source": [
    "#first business moment for total_cost\n",
    "print(df5.total_cost.mean())\n",
    "print(df5.total_cost.median())\n",
    "print(df5.total_cost.mode())"
   ]
  },
  {
   "cell_type": "code",
   "execution_count": null,
   "id": "37fd7204",
   "metadata": {},
   "outputs": [
    {
     "name": "stdout",
     "output_type": "stream",
     "text": [
      "11.373787300690127\n",
      "3.372504603509108\n",
      "24.71\n"
     ]
    }
   ],
   "source": [
    "#second business moment for quantity_consumed\n",
    "print(df5.quantity_consumed.var())\n",
    "print(df5.quantity_consumed.std())\n",
    "print(df5.quantity_consumed.max()-df5.quantity_consumed.min())"
   ]
  },
  {
   "cell_type": "code",
   "execution_count": null,
   "id": "456db8b4",
   "metadata": {},
   "outputs": [
    {
     "name": "stdout",
     "output_type": "stream",
     "text": [
      "4306.140220689639\n",
      "65.62118728497404\n",
      "423.36613333551196\n"
     ]
    }
   ],
   "source": [
    "#second business moment for unit_cost\n",
    "print(df5.unit_cost.var())\n",
    "print(df5.unit_cost.std())\n",
    "print(df5.unit_cost.max()-df5.unit_cost.min())\n"
   ]
  },
  {
   "cell_type": "code",
   "execution_count": null,
   "id": "24aeb43b",
   "metadata": {},
   "outputs": [
    {
     "name": "stdout",
     "output_type": "stream",
     "text": [
      "96443.3287950144\n",
      "310.5532624124474\n",
      "4115.63\n"
     ]
    }
   ],
   "source": [
    "#second business moment for total_cost\n",
    "print(df5.total_cost.var())\n",
    "print(df5.total_cost.std())\n",
    "print(df5.total_cost.max()-df5.total_cost.min())"
   ]
  },
  {
   "cell_type": "code",
   "execution_count": null,
   "id": "ae0da094",
   "metadata": {},
   "outputs": [
    {
     "name": "stdout",
     "output_type": "stream",
     "text": [
      "1.8445508610059473\n"
     ]
    }
   ],
   "source": [
    "#third business moment for quantity_consumed\n",
    "print(df5.quantity_consumed.skew())"
   ]
  },
  {
   "cell_type": "code",
   "execution_count": null,
   "id": "36100fa3",
   "metadata": {},
   "outputs": [
    {
     "name": "stdout",
     "output_type": "stream",
     "text": [
      "1.9365957959684834\n"
     ]
    }
   ],
   "source": [
    "#third business moment for unit_cost\n",
    "print(df5.unit_cost.skew())"
   ]
  },
  {
   "cell_type": "code",
   "execution_count": null,
   "id": "2848abfd",
   "metadata": {},
   "outputs": [
    {
     "name": "stdout",
     "output_type": "stream",
     "text": [
      "2.7365756650163293\n"
     ]
    }
   ],
   "source": [
    "#third business moment for total_cost\n",
    "print(df5.total_cost.skew())"
   ]
  },
  {
   "cell_type": "code",
   "execution_count": null,
   "id": "ceaef558",
   "metadata": {},
   "outputs": [
    {
     "name": "stdout",
     "output_type": "stream",
     "text": [
      "4.654345071824604\n"
     ]
    }
   ],
   "source": [
    "#fourth business moment for quantity_consumed\n",
    "print(df5.quantity_consumed.kurt())"
   ]
  },
  {
   "cell_type": "code",
   "execution_count": null,
   "id": "86e9989f",
   "metadata": {},
   "outputs": [
    {
     "name": "stdout",
     "output_type": "stream",
     "text": [
      "3.637032321796577\n"
     ]
    }
   ],
   "source": [
    "#fourth business moment for unit_cost\n",
    "print(df5.unit_cost.kurt())"
   ]
  },
  {
   "cell_type": "code",
   "execution_count": null,
   "id": "68a49e3e",
   "metadata": {},
   "outputs": [
    {
     "name": "stdout",
     "output_type": "stream",
     "text": [
      "11.183957114521315\n"
     ]
    }
   ],
   "source": [
    "#fourth business moment for total_cost\n",
    "print(df5.total_cost.kurt())"
   ]
  },
  {
   "cell_type": "code",
   "execution_count": null,
   "id": "5bad60b1",
   "metadata": {},
   "outputs": [
    {
     "data": {
      "text/plain": [
       "<Axes: ylabel='quantity_consumed'>"
      ]
     },
     "execution_count": 214,
     "metadata": {},
     "output_type": "execute_result"
    },
    {
     "data": {
      "image/png": "[encoded data removed]",
      "text/plain": [
       "<Figure size 640x480 with 1 Axes>"
      ]
     },
     "metadata": {},
     "output_type": "display_data"
    }
   ],
   "source": [
    "#univariate analysis for quantity_consumed\n",
    "sb.boxplot(df5.quantity_consumed)\n"
   ]
  },
  {
   "cell_type": "code",
   "execution_count": null,
   "metadata": {},
   "outputs": [
    {
     "data": {
      "text/plain": [
       "<Axes: ylabel='unit_cost'>"
      ]
     },
     "execution_count": 215,
     "metadata": {},
     "output_type": "execute_result"
    },
    {
     "data": {
      "image/png": "[encoded data removed]",
      "text/plain": [
       "<Figure size 640x480 with 1 Axes>"
      ]
     },
     "metadata": {},
     "output_type": "display_data"
    }
   ],
   "source": [
    "sb.boxplot(df5.unit_cost)"
   ]
  },
  {
   "cell_type": "code",
   "execution_count": null,
   "metadata": {},
   "outputs": [
    {
     "data": {
      "text/plain": [
       "<Axes: ylabel='total_cost'>"
      ]
     },
     "execution_count": 216,
     "metadata": {},
     "output_type": "execute_result"
    },
    {
     "data": {
      "image/png": "[encoded data removed]",
      "text/plain": [
       "<Figure size 640x480 with 1 Axes>"
      ]
     },
     "metadata": {},
     "output_type": "display_data"
    }
   ],
   "source": [
    "sb.boxplot(df5.total_cost)"
   ]
  },
  {
   "cell_type": "code",
   "execution_count": null,
   "metadata": {},
   "outputs": [
    {
     "name": "stdout",
     "output_type": "stream",
     "text": [
      "0\n"
     ]
    }
   ],
   "source": [
    "#data preprocessing\n",
    "duplicate = df5.duplicated()    \n",
    "print(duplicate.sum())"
   ]
  },
  {
   "cell_type": "code",
   "execution_count": null,
   "metadata": {},
   "outputs": [],
   "source": [
    "#outlier treatment\n",
    "iqr = df5.quantity_consumed.quantile(0.75)-df5.quantity_consumed.quantile(0.25)\n",
    "upper_limit = df5.quantity_consumed.quantile(0.75)+ (1.5* iqr)\n",
    "lower_limit = df5.quantity_consumed.quantile(0.25)-(1.5* iqr)"
   ]
  },
  {
   "cell_type": "code",
   "execution_count": null,
   "metadata": {},
   "outputs": [],
   "source": [
    "iqr = df5.unit_cost.quantile(0.75)-df5.unit_cost.quantile(0.25) \n",
    "upper_limit = df5.unit_cost.quantile(0.75)+ (1.5* iqr)\n",
    "lower_limit = df5.unit_cost.quantile(0.25)-(1.5* iqr)"
   ]
  },
  {
   "cell_type": "code",
   "execution_count": null,
   "metadata": {},
   "outputs": [],
   "source": [
    "iqr = df5.total_cost.quantile(0.75)-df5.total_cost.quantile(0.25)\n",
    "upper_limit = df5.total_cost.quantile(0.75)+ (1.5* iqr)\n",
    "lower_limit = df5.total_cost.quantile(0.25)-(1.5* iqr)"
   ]
  },
  {
   "cell_type": "code",
   "execution_count": null,
   "metadata": {},
   "outputs": [
    {
     "name": "stderr",
     "output_type": "stream",
     "text": [
      "\n",
      "[notice] A new release of pip is available: 24.2 -> 25.2\n",
      "[notice] To update, run: python.exe -m pip install --upgrade pip\n"
     ]
    },
    {
     "name": "stdout",
     "output_type": "stream",
     "text": [
      "Requirement already satisfied: feature_engine in c:\\users\\hp\\documents\\internship project 2\\hospital_analytics\\hospital\\lib\\site-packages (1.9.3)\n",
      "Requirement already satisfied: numpy>=1.18.2 in c:\\users\\hp\\documents\\internship project 2\\hospital_analytics\\hospital\\lib\\site-packages (from feature_engine) (2.3.3)\n",
      "Requirement already satisfied: pandas>=2.2.0 in c:\\users\\hp\\documents\\internship project 2\\hospital_analytics\\hospital\\lib\\site-packages (from feature_engine) (2.3.2)\n",
      "Requirement already satisfied: scikit-learn>=1.4.0 in c:\\users\\hp\\documents\\internship project 2\\hospital_analytics\\hospital\\lib\\site-packages (from feature_engine) (1.7.2)\n",
      "Requirement already satisfied: scipy>=1.4.1 in c:\\users\\hp\\documents\\internship project 2\\hospital_analytics\\hospital\\lib\\site-packages (from feature_engine) (1.16.2)\n",
      "Requirement already satisfied: statsmodels>=0.11.1 in c:\\users\\hp\\documents\\internship project 2\\hospital_analytics\\hospital\\lib\\site-packages (from feature_engine) (0.14.5)\n",
      "Requirement already satisfied: python-dateutil>=2.8.2 in c:\\users\\hp\\documents\\internship project 2\\hospital_analytics\\hospital\\lib\\site-packages (from pandas>=2.2.0->feature_engine) (2.9.0.post0)\n",
      "Requirement already satisfied: pytz>=2020.1 in c:\\users\\hp\\documents\\internship project 2\\hospital_analytics\\hospital\\lib\\site-packages (from pandas>=2.2.0->feature_engine) (2025.2)\n",
      "Requirement already satisfied: tzdata>=2022.7 in c:\\users\\hp\\documents\\internship project 2\\hospital_analytics\\hospital\\lib\\site-packages (from pandas>=2.2.0->feature_engine) (2025.2)\n",
      "Requirement already satisfied: joblib>=1.2.0 in c:\\users\\hp\\documents\\internship project 2\\hospital_analytics\\hospital\\lib\\site-packages (from scikit-learn>=1.4.0->feature_engine) (1.5.2)\n",
      "Requirement already satisfied: threadpoolctl>=3.1.0 in c:\\users\\hp\\documents\\internship project 2\\hospital_analytics\\hospital\\lib\\site-packages (from scikit-learn>=1.4.0->feature_engine) (3.6.0)\n",
      "Requirement already satisfied: patsy>=0.5.6 in c:\\users\\hp\\documents\\internship project 2\\hospital_analytics\\hospital\\lib\\site-packages (from statsmodels>=0.11.1->feature_engine) (1.0.1)\n",
      "Requirement already satisfied: packaging>=21.3 in c:\\users\\hp\\documents\\internship project 2\\hospital_analytics\\hospital\\lib\\site-packages (from statsmodels>=0.11.1->feature_engine) (25.0)\n",
      "Requirement already satisfied: six>=1.5 in c:\\users\\hp\\documents\\internship project 2\\hospital_analytics\\hospital\\lib\\site-packages (from python-dateutil>=2.8.2->pandas>=2.2.0->feature_engine) (1.17.0)\n",
      "Note: you may need to restart the kernel to use updated packages.\n"
     ]
    }
   ],
   "source": [
    "#winsorization Iqr method\n",
    "%pip install feature_engine\n",
    "from feature_engine.outliers import Winsorizer\n",
    "winsor = Winsorizer(capping_method='iqr', tail='both', fold=1.5, variables=['quantity_consumed', 'unit_cost', 'total_cost'])\n",
    "df5_treated = winsor.fit_transform(df5[['quantity_consumed', 'unit_cost', 'total_cost']])\n"
   ]
  },
  {
   "cell_type": "code",
   "execution_count": null,
   "metadata": {},
   "outputs": [
    {
     "data": {
      "text/plain": [
       "<Axes: >"
      ]
     },
     "execution_count": 222,
     "metadata": {},
     "output_type": "execute_result"
    },
    {
     "data": {
      "image/png": "[encoded data removed]",
      "text/plain": [
       "<Figure size 640x480 with 1 Axes>"
      ]
     },
     "metadata": {},
     "output_type": "display_data"
    }
   ],
   "source": [
    "sb.boxplot(df5_treated)"
   ]
  },
  {
   "cell_type": "code",
   "execution_count": null,
   "metadata": {},
   "outputs": [
    {
     "data": {
      "text/plain": [
       "quantity_consumed    0\n",
       "unit_cost            0\n",
       "total_cost           0\n",
       "dtype: int64"
      ]
     },
     "execution_count": 223,
     "metadata": {},
     "output_type": "execute_result"
    }
   ],
   "source": [
    "#missing value imputation\n",
    "df5_treated.isnull().sum()"
   ]
  },
  {
   "cell_type": "code",
   "execution_count": null,
   "metadata": {},
   "outputs": [
    {
     "name": "stdout",
     "output_type": "stream",
     "text": [
      "4.078902517272279\n",
      "3.26\n",
      "0    10.62\n",
      "Name: quantity_consumed, dtype: float64\n"
     ]
    }
   ],
   "source": [
    "#first business moment for quantity_consumed\n",
    "print(df5_treated.quantity_consumed.mean())\n",
    "print(df5_treated.quantity_consumed.median())\n",
    "print(df5_treated.quantity_consumed.mode())"
   ]
  },
  {
   "cell_type": "code",
   "execution_count": null,
   "metadata": {},
   "outputs": [
    {
     "name": "stdout",
     "output_type": "stream",
     "text": [
      "57.290868718683384\n",
      "42.2080673465683\n",
      "0    151.42\n",
      "Name: unit_cost, dtype: float64\n"
     ]
    }
   ],
   "source": [
    "#first business moment for unit_cost\n",
    "print(df5_treated.unit_cost.mean())\n",
    "print(df5_treated.unit_cost.median())\n",
    "print(df5_treated.unit_cost.mode())"
   ]
  },
  {
   "cell_type": "code",
   "execution_count": null,
   "metadata": {},
   "outputs": [
    {
     "name": "stdout",
     "output_type": "stream",
     "text": [
      "226.12092408740017\n",
      "138.38\n",
      "0    726.975\n",
      "Name: total_cost, dtype: float64\n"
     ]
    }
   ],
   "source": [
    "#first business moment for total_cost\n",
    "print(df5_treated.total_cost.mean())\n",
    "print(df5_treated.total_cost.median())\n",
    "print(df5_treated.total_cost.mode())"
   ]
  },
  {
   "cell_type": "code",
   "execution_count": null,
   "id": "ed7c0019",
   "metadata": {},
   "outputs": [
    {
     "name": "stdout",
     "output_type": "stream",
     "text": [
      "7.919091430190789\n",
      "2.8140880281524225\n",
      "10.33\n"
     ]
    }
   ],
   "source": [
    "#second business moment for quantity_consumed\n",
    "print(df5_treated.quantity_consumed.var())\n",
    "print(df5_treated.quantity_consumed.std())\n",
    "print(df5_treated.quantity_consumed.max()-df5_treated.quantity_consumed.min())"
   ]
  },
  {
   "cell_type": "code",
   "execution_count": null,
   "id": "a3ef1b36",
   "metadata": {},
   "outputs": [
    {
     "name": "stdout",
     "output_type": "stream",
     "text": [
      "2106.3095879723587\n",
      "45.89454856486071\n",
      "149.32\n"
     ]
    }
   ],
   "source": [
    "#second business moment for unit_cost\n",
    "print(df5_treated.unit_cost.var())\n",
    "print(df5_treated.unit_cost.std())\n",
    "print(df5_treated.unit_cost.max()-df5_treated.unit_cost.min())"
   ]
  },
  {
   "cell_type": "code",
   "execution_count": null,
   "metadata": {},
   "outputs": [
    {
     "name": "stdout",
     "output_type": "stream",
     "text": [
      "47873.46500966683\n",
      "218.800057151882\n",
      "725.2550000000001\n"
     ]
    }
   ],
   "source": [
    "#second business moment for total_cost\n",
    "print(df5_treated.total_cost.var())\n",
    "print(df5_treated.total_cost.std())\n",
    "print(df5_treated.total_cost.max()-df5_treated.total_cost.min())"
   ]
  },
  {
   "cell_type": "code",
   "execution_count": null,
   "metadata": {},
   "outputs": [
    {
     "name": "stdout",
     "output_type": "stream",
     "text": [
      "0.9744422795343698\n"
     ]
    }
   ],
   "source": [
    "#third business moment for quantity_consumed\n",
    "print(df5_treated.quantity_consumed.skew())"
   ]
  },
  {
   "cell_type": "code",
   "execution_count": null,
   "metadata": {},
   "outputs": [
    {
     "name": "stdout",
     "output_type": "stream",
     "text": [
      "1.9365957959684834\n"
     ]
    }
   ],
   "source": [
    "#third business moment for unit_cost\n",
    "print(df5.unit_cost.skew())"
   ]
  },
  {
   "cell_type": "code",
   "execution_count": null,
   "metadata": {},
   "outputs": [
    {
     "name": "stdout",
     "output_type": "stream",
     "text": [
      "1.162163306870698\n"
     ]
    }
   ],
   "source": [
    "#third business moment for total_cost\n",
    "print(df5_treated.total_cost.skew())"
   ]
  },
  {
   "cell_type": "code",
   "execution_count": null,
   "metadata": {},
   "outputs": [
    {
     "name": "stdout",
     "output_type": "stream",
     "text": [
      "-0.02947202512959457\n"
     ]
    }
   ],
   "source": [
    "#fourth business moment for quantity_consumed\n",
    "print(df5_treated.quantity_consumed.kurt())"
   ]
  },
  {
   "cell_type": "code",
   "execution_count": null,
   "metadata": {},
   "outputs": [
    {
     "name": "stdout",
     "output_type": "stream",
     "text": [
      "-0.20421341756518974\n"
     ]
    }
   ],
   "source": [
    "#fourth business moment for unit_cost\n",
    "print(df5_treated.unit_cost.kurt())"
   ]
  },
  {
   "cell_type": "code",
   "execution_count": null,
   "id": "4e79b5fb",
   "metadata": {},
   "outputs": [
    {
     "name": "stdout",
     "output_type": "stream",
     "text": [
      "0.13646673983470192\n"
     ]
    }
   ],
   "source": [
    "#fourth business moment for total_cost\n",
    "print(df5_treated.total_cost.kurt())"
   ]
  }
 ],
 "metadata": {
  "kernelspec": {
   "display_name": "hospital",
   "language": "python",
   "name": "python3"
  },
  "language_info": {
   "codemirror_mode": {
    "name": "ipython",
    "version": 3
   },
   "file_extension": ".py",
   "mimetype": "text/x-python",
   "name": "python",
   "nbconvert_exporter": "python",
   "pygments_lexer": "ipython3",
   "version": "3.12.7"
  }
 },
 "nbformat": 4,
 "nbformat_minor": 5
}
